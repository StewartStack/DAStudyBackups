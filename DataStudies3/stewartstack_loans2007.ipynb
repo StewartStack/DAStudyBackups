{
 "cells": [
  {
   "cell_type": "code",
   "execution_count": null,
   "metadata": {},
   "outputs": [],
   "source": [
    "# StewartStack\n",
    "# Data Cleaning and ML learning for CS \n",
    "# 12/04/2023"
   ]
  },
  {
   "cell_type": "markdown",
   "metadata": {},
   "source": [
    "### === Understanding the Data ===\n"
   ]
  },
  {
   "cell_type": "markdown",
   "metadata": {},
   "source": [
    "### === The Dataset ==="
   ]
  },
  {
   "cell_type": "markdown",
   "metadata": {},
   "source": [
    "#### === Importing libraries & creating settings ==="
   ]
  },
  {
   "cell_type": "code",
   "execution_count": 135,
   "metadata": {},
   "outputs": [],
   "source": [
    "# Import the required libraries\n",
    "import pandas as pd\n",
    "import numpy as np\n",
    "import matplotlib.pyplot as plt\n",
    "import seaborn as sns\n",
    "\n",
    "# Enable the display of matplotlib plots directly in the Jupyter Notebook\n",
    "%matplotlib inline\n",
    "\n",
    "# Set the default figure size for matplotlib plots\n",
    "plt.rcParams['figure.figsize'] = (12, 8)\n",
    "\n",
    "# Set the maximum number of columns to display in a DataFrame to 120\n",
    "pd.set_option('display.max_columns', 120)\n",
    "\n",
    "# Set the maximum width of each column to display in a DataFrame to 5000 characters\n",
    "pd.set_option('display.max_colwidth', 5000)\n"
   ]
  },
  {
   "cell_type": "code",
   "execution_count": null,
   "metadata": {},
   "outputs": [],
   "source": [
    "# Loading in csv file and using skiprow()\n",
    "# Row 1 contains a link & sits above the series headings.\n",
    "# Removing so the data can be parsed properly\n",
    "loans_2007 = pd.read_csv('lending_club_loans.csv', skiprows = 1, low_memory = False)"
   ]
  },
  {
   "cell_type": "code",
   "execution_count": null,
   "metadata": {},
   "outputs": [],
   "source": [
    "loans_2007.head(3)"
   ]
  },
  {
   "cell_type": "markdown",
   "metadata": {},
   "source": [
    "#### === Thresh ==="
   ]
  },
  {
   "cell_type": "code",
   "execution_count": null,
   "metadata": {},
   "outputs": [],
   "source": [
    "# Remove all columns with more than 50% missing values & 2 columns which are not needed\n",
    "# Reassign in both cases\n",
    "# Calculate the half of the total number of rows in the 'loans_2007' DataFrame\n",
    "half_count  = len(loans_2007) / 2\n",
    "# Drop the columns in the 'loans_2007' DataFrame that have more than half_count missing values\n",
    "loans_2007 = loans_2007.dropna(thresh = half_count, axis = 1)\n",
    "# Drop the 'url' and 'desc' columns from the 'loans_2007' DataFrame\n",
    "loans_2007 = loans_2007.drop(['url', 'desc'], axis = 1)"
   ]
  },
  {
   "cell_type": "code",
   "execution_count": null,
   "metadata": {},
   "outputs": [],
   "source": [
    "# checking the shape\n",
    "loans_2007.shape"
   ]
  },
  {
   "cell_type": "code",
   "execution_count": null,
   "metadata": {},
   "outputs": [],
   "source": [
    "# checking the columns count again\n",
    "loans_2007.head(3)"
   ]
  },
  {
   "cell_type": "code",
   "execution_count": null,
   "metadata": {},
   "outputs": [],
   "source": [
    "# checking info\n",
    "loans_2007.info()"
   ]
  },
  {
   "cell_type": "markdown",
   "metadata": {},
   "source": [
    "### === Data Dictionary ==="
   ]
  },
  {
   "cell_type": "code",
   "execution_count": null,
   "metadata": {},
   "outputs": [],
   "source": [
    "# read the DD, check number of rows, get column names\n",
    "data_dictionary = pd.read_csv('LCDataDictionary.csv')\n",
    "print(data_dictionary.shape[0])\n",
    "print(data_dictionary.columns.tolist())"
   ]
  },
  {
   "cell_type": "code",
   "execution_count": null,
   "metadata": {},
   "outputs": [],
   "source": [
    "# Renaming series for clarity and consistency\n",
    "data_dictionary = data_dictionary.rename(columns={'LoanStatNew': 'name', 'Description': 'description'})"
   ]
  },
  {
   "cell_type": "code",
   "execution_count": null,
   "metadata": {},
   "outputs": [],
   "source": [
    "# Viewing the results\n",
    "data_dictionary.head()"
   ]
  },
  {
   "cell_type": "code",
   "execution_count": null,
   "metadata": {},
   "outputs": [],
   "source": [
    "# merge()\n",
    "# merge the data dictionary with part of loans. Assign it new variable\n",
    "# Create a DataFrame of the data types of columns in the 'loans_2007' DataFrame\n",
    "loans_2007_dtypes = pd.DataFrame(loans_2007.dtypes, columns=['dtypes'])\n",
    "\n",
    "# Reset the index of the 'loans_2007_dtypes' DataFrame and add the index as a new column named 'name'\n",
    "loans_2007_dtypes = loans_2007_dtypes.reset_index()\n",
    "loans_2007_dtypes['name'] = loans_2007_dtypes['index']\n",
    "\n",
    "# Rearrange the columns in the 'loans_2007_dtypes' DataFrame\n",
    "loans_2007_dtypes  = loans_2007_dtypes[['name', 'dtypes']]\n",
    "\n",
    "# Add a new column 'first value' to the 'loans_2007_dtypes' DataFrame, containing the first value of each column in the 'loans_2007' DataFrame\n",
    "loans_2007_dtypes['first value'] = loans_2007.loc[0].values\n",
    "\n",
    "# Merge the 'loans_2007_dtypes' DataFrame with the 'data_dictionary' DataFrame, matching on the 'name' column\n",
    "preview = loans_2007_dtypes.merge(data_dictionary, on='name', how='left')\n"
   ]
  },
  {
   "cell_type": "markdown",
   "metadata": {},
   "source": [
    "### === Select Data for Cleaning using Dictionary ===\n"
   ]
  },
  {
   "cell_type": "code",
   "execution_count": null,
   "metadata": {},
   "outputs": [],
   "source": [
    "# First group of columns\n",
    "preview[:19]"
   ]
  },
  {
   "cell_type": "code",
   "execution_count": null,
   "metadata": {},
   "outputs": [],
   "source": [
    "loans_2007.shape"
   ]
  },
  {
   "cell_type": "code",
   "execution_count": null,
   "metadata": {},
   "outputs": [],
   "source": [
    "# first drop - 8 columns\n",
    "# These are not needed\n",
    "drop_one = ['id','member_id','funded_amnt','funded_amnt_inv','int_rate','sub_grade','emp_title','issue_d']\n",
    "# Prevents error \n",
    "loans_2007 = loans_2007.drop(drop_one, errors='ignore',axis=1)"
   ]
  },
  {
   "cell_type": "code",
   "execution_count": null,
   "metadata": {},
   "outputs": [],
   "source": [
    "loans_2007.shape"
   ]
  },
  {
   "cell_type": "code",
   "execution_count": null,
   "metadata": {},
   "outputs": [],
   "source": [
    "# Second group of columns\n",
    "preview[19:38]"
   ]
  },
  {
   "cell_type": "code",
   "execution_count": null,
   "metadata": {},
   "outputs": [],
   "source": [
    "# Second drop - 5 columns\n",
    "drop_two = [ 'zip_code','out_prncp','out_prncp_inv','total_pymnt','total_pymnt_inv']\n",
    "\n",
    "loans_2007 = loans_2007.drop(drop_two,errors='ignore',axis=1)"
   ]
  },
  {
   "cell_type": "code",
   "execution_count": null,
   "metadata": {},
   "outputs": [],
   "source": [
    "loans_2007.shape"
   ]
  },
  {
   "cell_type": "code",
   "execution_count": null,
   "metadata": {},
   "outputs": [],
   "source": [
    "# Third group of columns\n",
    "preview[38:]"
   ]
  },
  {
   "cell_type": "code",
   "execution_count": null,
   "metadata": {},
   "outputs": [],
   "source": [
    "# Third Group of columns to be dropped - 7\n",
    "drop_three = ['total_rec_prncp','total_rec_int', 'total_rec_late_fee','recoveries', 'collection_recovery_fee', 'last_pymnt_d', 'last_pymnt_amnt']\n",
    "\n",
    "loans_2007 = loans_2007.drop(drop_three, errors = 'ignore', axis = 1)"
   ]
  },
  {
   "cell_type": "code",
   "execution_count": null,
   "metadata": {},
   "outputs": [],
   "source": [
    "loans_2007.shape"
   ]
  },
  {
   "cell_type": "code",
   "execution_count": null,
   "metadata": {},
   "outputs": [],
   "source": [
    "preview[:]"
   ]
  },
  {
   "cell_type": "code",
   "execution_count": null,
   "metadata": {},
   "outputs": [],
   "source": [
    "# Changing title to loan_title as a bit more appropriate\n",
    "loans_2007.rename(columns = {'title' : 'loan_title'}, inplace = True)\n",
    "loans_2007.head(3)"
   ]
  },
  {
   "cell_type": "markdown",
   "metadata": {},
   "source": [
    "### === Investigating FICO Score Columns ===\n"
   ]
  },
  {
   "cell_type": "code",
   "execution_count": null,
   "metadata": {},
   "outputs": [],
   "source": [
    "# unique FICO's\n",
    "print('low', loans_2007['fico_range_low'].unique())\n",
    "print('\\nhigh', loans_2007['fico_range_high'].unique())"
   ]
  },
  {
   "cell_type": "code",
   "execution_count": null,
   "metadata": {},
   "outputs": [],
   "source": [
    "# Comparing fico_low max & min\n",
    "print('fico low max', loans_2007['fico_range_low'].max())\n",
    "print('fico low min', loans_2007['fico_range_low'].min())"
   ]
  },
  {
   "cell_type": "code",
   "execution_count": null,
   "metadata": {},
   "outputs": [],
   "source": [
    "# comparing fico_high max & min\n",
    "print('fico high max', loans_2007['fico_range_high'].max())\n",
    "print('fico high min', loans_2007['fico_range_high'].min())"
   ]
  },
  {
   "cell_type": "code",
   "execution_count": null,
   "metadata": {},
   "outputs": [],
   "source": [
    "# isnull()\n",
    "# Checking for null values as want the average to be accurate\n",
    "loans_2007['fico_range_high'].isnull().values.sum(0)"
   ]
  },
  {
   "cell_type": "code",
   "execution_count": null,
   "metadata": {},
   "outputs": [],
   "source": [
    "loans_2007['fico_range_low'].isnull().values.sum(0)"
   ]
  },
  {
   "cell_type": "code",
   "execution_count": null,
   "metadata": {},
   "outputs": [],
   "source": [
    "# Removing the nulls\n",
    "# creating a variable & assigning the 2 series to it\n",
    "# Checking the initial number of rows\n",
    "# drop rows with missing values for fico high/fico low\n",
    "# check number of rows again\n",
    "fico_columns = ['fico_range_high', 'fico_range_low']\n",
    "print('check rows', loans_2007.shape[0])\n",
    "loans_2007.dropna(subset = fico_columns, inplace = True)\n",
    "print('check rows after drop', loans_2007.shape[0])"
   ]
  },
  {
   "cell_type": "code",
   "execution_count": null,
   "metadata": {},
   "outputs": [],
   "source": [
    "# calculating the mean of fico high/fico low\n",
    "loans_2007['fico_average'] = (loans_2007['fico_range_high'] + loans_2007['fico_range_low']) / 2\n",
    "cols = ['fico_range_low', 'fico_range_high', 'fico_average']\n",
    "loans_2007[cols].head() "
   ]
  },
  {
   "cell_type": "code",
   "execution_count": null,
   "metadata": {},
   "outputs": [],
   "source": [
    "# Dropping unneeded fico columns\n",
    "drop_cols = ['fico_range_low', 'fico_range_high', 'last_fico_range_low', 'last_fico_range_high']\n",
    "loans_2007 = loans_2007.drop(drop_cols, errors = 'ignore', axis = 1)\n",
    "loans_2007.shape"
   ]
  },
  {
   "cell_type": "markdown",
   "metadata": {},
   "source": [
    "#### === Target Column ==="
   ]
  },
  {
   "cell_type": "code",
   "execution_count": null,
   "metadata": {},
   "outputs": [],
   "source": [
    "# Using preview to check the dataframe on the 'loan_status' series\n",
    "preview[preview.name == 'loan_status']"
   ]
  },
  {
   "cell_type": "code",
   "execution_count": null,
   "metadata": {},
   "outputs": [],
   "source": [
    "# value counts()\n",
    "# Returning the frequency of the unique values in the loan_status\n",
    "loans_2007['loan_status'].value_counts()"
   ]
  },
  {
   "cell_type": "code",
   "execution_count": null,
   "metadata": {},
   "outputs": [],
   "source": [
    "# Using replace() and bitwise\n",
    "# Having to use this because in pandas using OR will produce ValueError\n",
    "loans_2007 = loans_2007[(loans_2007['loan_status'] == 'Fully Paid') | (loans_2007['loan_status'] == 'Charged Off')]\n",
    "new_status = {'loan_status' : {'Fully Paid': 1, 'Charged Off': 0}}\n",
    "loans_2007 = loans_2007.replace(new_status)\n",
    "loans_2007.shape"
   ]
  },
  {
   "cell_type": "code",
   "execution_count": null,
   "metadata": {},
   "outputs": [],
   "source": [
    "loans_2007.head()"
   ]
  },
  {
   "cell_type": "markdown",
   "metadata": {},
   "source": [
    "#### === Visualizing the Target Column Outcomes ==="
   ]
  },
  {
   "cell_type": "code",
   "execution_count": null,
   "metadata": {},
   "outputs": [],
   "source": [
    "# Defining how many plots wanted(1 = one row, 2 = 2 columns; set the size for the canvas)\n",
    "fig, axs = plt.subplots(1, 2, figsize = (14, 7))\n",
    "# Seaborn bar chart using loan_status for the x-axis, take the data from the dataset, set the position of the canvas\n",
    "sns.countplot(x = 'loan_status', data = loans_2007, ax = axs[0])\n",
    "# Naming the area assigned to plot 1\n",
    "axs[0].set_title('Frequency of each loan Status')\n",
    "# Creates pie chart using matplotlib (ax = axs[1] places it correctly on the canvas, autopct sets the decimal display)\n",
    "loans_2007.loan_status.value_counts().plot(x = None, y = None, kind = 'pie', ax = axs[1], autopct = '%1.2f%%')\n",
    "# Name the area assigned to plot 2\n",
    "axs[1].set_title('Percentage of each Loan status')\n",
    "plt.show()\n"
   ]
  },
  {
   "cell_type": "markdown",
   "metadata": {},
   "source": [
    "#### === Saving Cleansed Data ==="
   ]
  },
  {
   "cell_type": "code",
   "execution_count": null,
   "metadata": {},
   "outputs": [],
   "source": [
    "# Create a new file called filtered_loans write the changed data to it\n",
    "loans_2007.to_csv('cleaned_data/filtered_loans_2007.csv', index = False)"
   ]
  },
  {
   "cell_type": "code",
   "execution_count": 136,
   "metadata": {},
   "outputs": [
    {
     "name": "stdout",
     "output_type": "stream",
     "text": [
      "(39239, 33)\n"
     ]
    },
    {
     "data": {
      "text/html": [
       "<div>\n",
       "<style scoped>\n",
       "    .dataframe tbody tr th:only-of-type {\n",
       "        vertical-align: middle;\n",
       "    }\n",
       "\n",
       "    .dataframe tbody tr th {\n",
       "        vertical-align: top;\n",
       "    }\n",
       "\n",
       "    .dataframe thead th {\n",
       "        text-align: right;\n",
       "    }\n",
       "</style>\n",
       "<table border=\"1\" class=\"dataframe\">\n",
       "  <thead>\n",
       "    <tr style=\"text-align: right;\">\n",
       "      <th></th>\n",
       "      <th>loan_amnt</th>\n",
       "      <th>term</th>\n",
       "      <th>installment</th>\n",
       "      <th>grade</th>\n",
       "      <th>emp_length</th>\n",
       "      <th>home_ownership</th>\n",
       "      <th>annual_inc</th>\n",
       "      <th>verification_status</th>\n",
       "      <th>loan_status</th>\n",
       "      <th>pymnt_plan</th>\n",
       "      <th>purpose</th>\n",
       "      <th>loan_title</th>\n",
       "      <th>addr_state</th>\n",
       "      <th>dti</th>\n",
       "      <th>delinq_2yrs</th>\n",
       "      <th>earliest_cr_line</th>\n",
       "      <th>inq_last_6mths</th>\n",
       "      <th>open_acc</th>\n",
       "      <th>pub_rec</th>\n",
       "      <th>revol_bal</th>\n",
       "      <th>revol_util</th>\n",
       "      <th>total_acc</th>\n",
       "      <th>initial_list_status</th>\n",
       "      <th>last_credit_pull_d</th>\n",
       "      <th>collections_12_mths_ex_med</th>\n",
       "      <th>policy_code</th>\n",
       "      <th>application_type</th>\n",
       "      <th>acc_now_delinq</th>\n",
       "      <th>chargeoff_within_12_mths</th>\n",
       "      <th>delinq_amnt</th>\n",
       "      <th>pub_rec_bankruptcies</th>\n",
       "      <th>tax_liens</th>\n",
       "      <th>fico_average</th>\n",
       "    </tr>\n",
       "  </thead>\n",
       "  <tbody>\n",
       "    <tr>\n",
       "      <th>0</th>\n",
       "      <td>5000.0</td>\n",
       "      <td>36 months</td>\n",
       "      <td>162.87</td>\n",
       "      <td>B</td>\n",
       "      <td>10+ years</td>\n",
       "      <td>RENT</td>\n",
       "      <td>24000.0</td>\n",
       "      <td>Verified</td>\n",
       "      <td>1</td>\n",
       "      <td>n</td>\n",
       "      <td>credit_card</td>\n",
       "      <td>Computer</td>\n",
       "      <td>AZ</td>\n",
       "      <td>27.65</td>\n",
       "      <td>0.0</td>\n",
       "      <td>Jan-85</td>\n",
       "      <td>1.0</td>\n",
       "      <td>3.0</td>\n",
       "      <td>0.0</td>\n",
       "      <td>13648.0</td>\n",
       "      <td>83.70%</td>\n",
       "      <td>9.0</td>\n",
       "      <td>f</td>\n",
       "      <td>Sep-16</td>\n",
       "      <td>0.0</td>\n",
       "      <td>1.0</td>\n",
       "      <td>INDIVIDUAL</td>\n",
       "      <td>0.0</td>\n",
       "      <td>0.0</td>\n",
       "      <td>0.0</td>\n",
       "      <td>0.0</td>\n",
       "      <td>0.0</td>\n",
       "      <td>737.0</td>\n",
       "    </tr>\n",
       "    <tr>\n",
       "      <th>1</th>\n",
       "      <td>2500.0</td>\n",
       "      <td>60 months</td>\n",
       "      <td>59.83</td>\n",
       "      <td>C</td>\n",
       "      <td>&lt; 1 year</td>\n",
       "      <td>RENT</td>\n",
       "      <td>30000.0</td>\n",
       "      <td>Source Verified</td>\n",
       "      <td>0</td>\n",
       "      <td>n</td>\n",
       "      <td>car</td>\n",
       "      <td>bike</td>\n",
       "      <td>GA</td>\n",
       "      <td>1.00</td>\n",
       "      <td>0.0</td>\n",
       "      <td>Apr-99</td>\n",
       "      <td>5.0</td>\n",
       "      <td>3.0</td>\n",
       "      <td>0.0</td>\n",
       "      <td>1687.0</td>\n",
       "      <td>9.40%</td>\n",
       "      <td>4.0</td>\n",
       "      <td>f</td>\n",
       "      <td>Sep-16</td>\n",
       "      <td>0.0</td>\n",
       "      <td>1.0</td>\n",
       "      <td>INDIVIDUAL</td>\n",
       "      <td>0.0</td>\n",
       "      <td>0.0</td>\n",
       "      <td>0.0</td>\n",
       "      <td>0.0</td>\n",
       "      <td>0.0</td>\n",
       "      <td>742.0</td>\n",
       "    </tr>\n",
       "    <tr>\n",
       "      <th>2</th>\n",
       "      <td>2400.0</td>\n",
       "      <td>36 months</td>\n",
       "      <td>84.33</td>\n",
       "      <td>C</td>\n",
       "      <td>10+ years</td>\n",
       "      <td>RENT</td>\n",
       "      <td>12252.0</td>\n",
       "      <td>Not Verified</td>\n",
       "      <td>1</td>\n",
       "      <td>n</td>\n",
       "      <td>small_business</td>\n",
       "      <td>real estate business</td>\n",
       "      <td>IL</td>\n",
       "      <td>8.72</td>\n",
       "      <td>0.0</td>\n",
       "      <td>Nov-01</td>\n",
       "      <td>2.0</td>\n",
       "      <td>2.0</td>\n",
       "      <td>0.0</td>\n",
       "      <td>2956.0</td>\n",
       "      <td>98.50%</td>\n",
       "      <td>10.0</td>\n",
       "      <td>f</td>\n",
       "      <td>Sep-16</td>\n",
       "      <td>0.0</td>\n",
       "      <td>1.0</td>\n",
       "      <td>INDIVIDUAL</td>\n",
       "      <td>0.0</td>\n",
       "      <td>0.0</td>\n",
       "      <td>0.0</td>\n",
       "      <td>0.0</td>\n",
       "      <td>0.0</td>\n",
       "      <td>737.0</td>\n",
       "    </tr>\n",
       "    <tr>\n",
       "      <th>3</th>\n",
       "      <td>10000.0</td>\n",
       "      <td>36 months</td>\n",
       "      <td>339.31</td>\n",
       "      <td>C</td>\n",
       "      <td>10+ years</td>\n",
       "      <td>RENT</td>\n",
       "      <td>49200.0</td>\n",
       "      <td>Source Verified</td>\n",
       "      <td>1</td>\n",
       "      <td>n</td>\n",
       "      <td>other</td>\n",
       "      <td>personel</td>\n",
       "      <td>CA</td>\n",
       "      <td>20.00</td>\n",
       "      <td>0.0</td>\n",
       "      <td>Feb-96</td>\n",
       "      <td>1.0</td>\n",
       "      <td>10.0</td>\n",
       "      <td>0.0</td>\n",
       "      <td>5598.0</td>\n",
       "      <td>21%</td>\n",
       "      <td>37.0</td>\n",
       "      <td>f</td>\n",
       "      <td>Apr-16</td>\n",
       "      <td>0.0</td>\n",
       "      <td>1.0</td>\n",
       "      <td>INDIVIDUAL</td>\n",
       "      <td>0.0</td>\n",
       "      <td>0.0</td>\n",
       "      <td>0.0</td>\n",
       "      <td>0.0</td>\n",
       "      <td>0.0</td>\n",
       "      <td>692.0</td>\n",
       "    </tr>\n",
       "    <tr>\n",
       "      <th>4</th>\n",
       "      <td>5000.0</td>\n",
       "      <td>36 months</td>\n",
       "      <td>156.46</td>\n",
       "      <td>A</td>\n",
       "      <td>3 years</td>\n",
       "      <td>RENT</td>\n",
       "      <td>36000.0</td>\n",
       "      <td>Source Verified</td>\n",
       "      <td>1</td>\n",
       "      <td>n</td>\n",
       "      <td>wedding</td>\n",
       "      <td>My wedding loan I promise to pay back</td>\n",
       "      <td>AZ</td>\n",
       "      <td>11.20</td>\n",
       "      <td>0.0</td>\n",
       "      <td>Nov-04</td>\n",
       "      <td>3.0</td>\n",
       "      <td>9.0</td>\n",
       "      <td>0.0</td>\n",
       "      <td>7963.0</td>\n",
       "      <td>28.30%</td>\n",
       "      <td>12.0</td>\n",
       "      <td>f</td>\n",
       "      <td>Jan-16</td>\n",
       "      <td>0.0</td>\n",
       "      <td>1.0</td>\n",
       "      <td>INDIVIDUAL</td>\n",
       "      <td>0.0</td>\n",
       "      <td>0.0</td>\n",
       "      <td>0.0</td>\n",
       "      <td>0.0</td>\n",
       "      <td>0.0</td>\n",
       "      <td>732.0</td>\n",
       "    </tr>\n",
       "  </tbody>\n",
       "</table>\n",
       "</div>"
      ],
      "text/plain": [
       "   loan_amnt        term  installment grade emp_length home_ownership  \\\n",
       "0     5000.0   36 months       162.87     B  10+ years           RENT   \n",
       "1     2500.0   60 months        59.83     C   < 1 year           RENT   \n",
       "2     2400.0   36 months        84.33     C  10+ years           RENT   \n",
       "3    10000.0   36 months       339.31     C  10+ years           RENT   \n",
       "4     5000.0   36 months       156.46     A    3 years           RENT   \n",
       "\n",
       "   annual_inc verification_status  loan_status pymnt_plan         purpose  \\\n",
       "0     24000.0            Verified            1          n     credit_card   \n",
       "1     30000.0     Source Verified            0          n             car   \n",
       "2     12252.0        Not Verified            1          n  small_business   \n",
       "3     49200.0     Source Verified            1          n           other   \n",
       "4     36000.0     Source Verified            1          n         wedding   \n",
       "\n",
       "                              loan_title addr_state    dti  delinq_2yrs  \\\n",
       "0                               Computer         AZ  27.65          0.0   \n",
       "1                                   bike         GA   1.00          0.0   \n",
       "2                   real estate business         IL   8.72          0.0   \n",
       "3                               personel         CA  20.00          0.0   \n",
       "4  My wedding loan I promise to pay back         AZ  11.20          0.0   \n",
       "\n",
       "  earliest_cr_line  inq_last_6mths  open_acc  pub_rec  revol_bal revol_util  \\\n",
       "0           Jan-85             1.0       3.0      0.0    13648.0     83.70%   \n",
       "1           Apr-99             5.0       3.0      0.0     1687.0      9.40%   \n",
       "2           Nov-01             2.0       2.0      0.0     2956.0     98.50%   \n",
       "3           Feb-96             1.0      10.0      0.0     5598.0        21%   \n",
       "4           Nov-04             3.0       9.0      0.0     7963.0     28.30%   \n",
       "\n",
       "   total_acc initial_list_status last_credit_pull_d  \\\n",
       "0        9.0                   f             Sep-16   \n",
       "1        4.0                   f             Sep-16   \n",
       "2       10.0                   f             Sep-16   \n",
       "3       37.0                   f             Apr-16   \n",
       "4       12.0                   f             Jan-16   \n",
       "\n",
       "   collections_12_mths_ex_med  policy_code application_type  acc_now_delinq  \\\n",
       "0                         0.0          1.0       INDIVIDUAL             0.0   \n",
       "1                         0.0          1.0       INDIVIDUAL             0.0   \n",
       "2                         0.0          1.0       INDIVIDUAL             0.0   \n",
       "3                         0.0          1.0       INDIVIDUAL             0.0   \n",
       "4                         0.0          1.0       INDIVIDUAL             0.0   \n",
       "\n",
       "   chargeoff_within_12_mths  delinq_amnt  pub_rec_bankruptcies  tax_liens  \\\n",
       "0                       0.0          0.0                   0.0        0.0   \n",
       "1                       0.0          0.0                   0.0        0.0   \n",
       "2                       0.0          0.0                   0.0        0.0   \n",
       "3                       0.0          0.0                   0.0        0.0   \n",
       "4                       0.0          0.0                   0.0        0.0   \n",
       "\n",
       "   fico_average  \n",
       "0         737.0  \n",
       "1         742.0  \n",
       "2         737.0  \n",
       "3         692.0  \n",
       "4         732.0  "
      ]
     },
     "execution_count": 136,
     "metadata": {},
     "output_type": "execute_result"
    }
   ],
   "source": [
    "# Reading new file back in\n",
    "filtered_loans = pd.read_csv('cleaned_data/filtered_loans_2007.csv')\n",
    "print(filtered_loans.shape)\n",
    "filtered_loans.head()"
   ]
  },
  {
   "cell_type": "markdown",
   "metadata": {},
   "source": [
    "#### === Preparing for features for Machine Learning ==="
   ]
  },
  {
   "cell_type": "markdown",
   "metadata": {},
   "source": [
    "#### === Handle Missing Values ==="
   ]
  },
  {
   "cell_type": "code",
   "execution_count": 137,
   "metadata": {},
   "outputs": [
    {
     "name": "stdout",
     "output_type": "stream",
     "text": [
      "Number of null values in each column:\n",
      " loan_amnt                        0\n",
      "term                             0\n",
      "installment                      0\n",
      "grade                            0\n",
      "emp_length                    1057\n",
      "home_ownership                   0\n",
      "annual_inc                       0\n",
      "verification_status              0\n",
      "loan_status                      0\n",
      "pymnt_plan                       0\n",
      "purpose                          0\n",
      "loan_title                      11\n",
      "addr_state                       0\n",
      "dti                              0\n",
      "delinq_2yrs                      0\n",
      "earliest_cr_line                 0\n",
      "inq_last_6mths                   0\n",
      "open_acc                         0\n",
      "pub_rec                          0\n",
      "revol_bal                        0\n",
      "revol_util                      50\n",
      "total_acc                        0\n",
      "initial_list_status              0\n",
      "last_credit_pull_d               2\n",
      "collections_12_mths_ex_med      56\n",
      "policy_code                      0\n",
      "application_type                 0\n",
      "acc_now_delinq                   0\n",
      "chargeoff_within_12_mths        56\n",
      "delinq_amnt                      0\n",
      "pub_rec_bankruptcies           697\n",
      "tax_liens                       39\n",
      "fico_average                     0\n",
      "dtype: int64\n"
     ]
    }
   ],
   "source": [
    "# Using isnull() to find missing values to then determine how to use them\n",
    "null_counts = filtered_loans.isnull().sum()\n",
    "print('Number of null values in each column:\\n', null_counts)"
   ]
  },
  {
   "cell_type": "code",
   "execution_count": 138,
   "metadata": {},
   "outputs": [],
   "source": [
    "# removing rows with missing values\n",
    "filtered_loans = filtered_loans.drop('emp_length', axis = 1)\n",
    "filtered_loans = filtered_loans.dropna()"
   ]
  },
  {
   "cell_type": "code",
   "execution_count": 139,
   "metadata": {},
   "outputs": [
    {
     "data": {
      "text/plain": [
       "(38478, 32)"
      ]
     },
     "execution_count": 139,
     "metadata": {},
     "output_type": "execute_result"
    }
   ],
   "source": [
    "# Checkpoint 6\n",
    "filtered_loans.shape"
   ]
  },
  {
   "cell_type": "markdown",
   "metadata": {},
   "source": [
    "#### === Catagorical Columns ===\n"
   ]
  }
 ],
 "metadata": {
  "kernelspec": {
   "display_name": "Python 3.9.13 ('base')",
   "language": "python",
   "name": "python3"
  },
  "language_info": {
   "codemirror_mode": {
    "name": "ipython",
    "version": 3
   },
   "file_extension": ".py",
   "mimetype": "text/x-python",
   "name": "python",
   "nbconvert_exporter": "python",
   "pygments_lexer": "ipython3",
   "version": "3.9.13"
  },
  "orig_nbformat": 4,
  "vscode": {
   "interpreter": {
    "hash": "4797254cd27251f85634e24d7c40b7dc427ef9d24a73e94fa89a31d9bc655861"
   }
  }
 },
 "nbformat": 4,
 "nbformat_minor": 2
}
