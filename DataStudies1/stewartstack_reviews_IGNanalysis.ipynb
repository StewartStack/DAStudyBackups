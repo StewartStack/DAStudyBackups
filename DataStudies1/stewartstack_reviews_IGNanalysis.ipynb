{
 "cells": [
  {
   "cell_type": "code",
   "execution_count": 22,
   "metadata": {},
   "outputs": [
    {
     "data": {
      "text/html": [
       "<div>\n",
       "<style scoped>\n",
       "    .dataframe tbody tr th:only-of-type {\n",
       "        vertical-align: middle;\n",
       "    }\n",
       "\n",
       "    .dataframe tbody tr th {\n",
       "        vertical-align: top;\n",
       "    }\n",
       "\n",
       "    .dataframe thead th {\n",
       "        text-align: right;\n",
       "    }\n",
       "</style>\n",
       "<table border=\"1\" class=\"dataframe\">\n",
       "  <thead>\n",
       "    <tr style=\"text-align: right;\">\n",
       "      <th></th>\n",
       "      <th>game_id</th>\n",
       "      <th>score_phrase</th>\n",
       "      <th>title</th>\n",
       "      <th>url</th>\n",
       "      <th>platform</th>\n",
       "      <th>score</th>\n",
       "      <th>genre</th>\n",
       "      <th>editors_choice</th>\n",
       "      <th>release_year</th>\n",
       "      <th>release_month</th>\n",
       "      <th>release_day</th>\n",
       "    </tr>\n",
       "  </thead>\n",
       "  <tbody>\n",
       "    <tr>\n",
       "      <th>0</th>\n",
       "      <td>1</td>\n",
       "      <td>Amazing</td>\n",
       "      <td>LittleBigPlanet PS Vita</td>\n",
       "      <td>/games/littlebigplanet-vita/vita-98907</td>\n",
       "      <td>PlayStation Vita</td>\n",
       "      <td>9.0</td>\n",
       "      <td>Platformer</td>\n",
       "      <td>Y</td>\n",
       "      <td>2012</td>\n",
       "      <td>9</td>\n",
       "      <td>12</td>\n",
       "    </tr>\n",
       "    <tr>\n",
       "      <th>1</th>\n",
       "      <td>2</td>\n",
       "      <td>Amazing</td>\n",
       "      <td>LittleBigPlanet PS Vita -- Marvel Super Hero E...</td>\n",
       "      <td>/games/littlebigplanet-ps-vita-marvel-super-he...</td>\n",
       "      <td>PlayStation Vita</td>\n",
       "      <td>9.0</td>\n",
       "      <td>Platformer</td>\n",
       "      <td>Y</td>\n",
       "      <td>2012</td>\n",
       "      <td>9</td>\n",
       "      <td>12</td>\n",
       "    </tr>\n",
       "    <tr>\n",
       "      <th>2</th>\n",
       "      <td>3</td>\n",
       "      <td>Great</td>\n",
       "      <td>Splice: Tree of Life</td>\n",
       "      <td>/games/splice/ipad-141070</td>\n",
       "      <td>iPad</td>\n",
       "      <td>8.5</td>\n",
       "      <td>Puzzle</td>\n",
       "      <td>N</td>\n",
       "      <td>2012</td>\n",
       "      <td>9</td>\n",
       "      <td>12</td>\n",
       "    </tr>\n",
       "    <tr>\n",
       "      <th>3</th>\n",
       "      <td>4</td>\n",
       "      <td>Great</td>\n",
       "      <td>NHL 13</td>\n",
       "      <td>/games/nhl-13/xbox-360-128182</td>\n",
       "      <td>Xbox 360</td>\n",
       "      <td>8.5</td>\n",
       "      <td>Sports</td>\n",
       "      <td>N</td>\n",
       "      <td>2012</td>\n",
       "      <td>9</td>\n",
       "      <td>11</td>\n",
       "    </tr>\n",
       "    <tr>\n",
       "      <th>4</th>\n",
       "      <td>5</td>\n",
       "      <td>Great</td>\n",
       "      <td>NHL 13</td>\n",
       "      <td>/games/nhl-13/ps3-128181</td>\n",
       "      <td>PlayStation 3</td>\n",
       "      <td>8.5</td>\n",
       "      <td>Sports</td>\n",
       "      <td>N</td>\n",
       "      <td>2012</td>\n",
       "      <td>9</td>\n",
       "      <td>11</td>\n",
       "    </tr>\n",
       "  </tbody>\n",
       "</table>\n",
       "</div>"
      ],
      "text/plain": [
       "   game_id score_phrase                                              title  \\\n",
       "0        1      Amazing                            LittleBigPlanet PS Vita   \n",
       "1        2      Amazing  LittleBigPlanet PS Vita -- Marvel Super Hero E...   \n",
       "2        3        Great                               Splice: Tree of Life   \n",
       "3        4        Great                                             NHL 13   \n",
       "4        5        Great                                             NHL 13   \n",
       "\n",
       "                                                 url          platform  score  \\\n",
       "0             /games/littlebigplanet-vita/vita-98907  PlayStation Vita    9.0   \n",
       "1  /games/littlebigplanet-ps-vita-marvel-super-he...  PlayStation Vita    9.0   \n",
       "2                          /games/splice/ipad-141070              iPad    8.5   \n",
       "3                      /games/nhl-13/xbox-360-128182          Xbox 360    8.5   \n",
       "4                           /games/nhl-13/ps3-128181     PlayStation 3    8.5   \n",
       "\n",
       "        genre editors_choice  release_year  release_month  release_day  \n",
       "0  Platformer              Y          2012              9           12  \n",
       "1  Platformer              Y          2012              9           12  \n",
       "2      Puzzle              N          2012              9           12  \n",
       "3      Sports              N          2012              9           11  \n",
       "4      Sports              N          2012              9           11  "
      ]
     },
     "execution_count": 22,
     "metadata": {},
     "output_type": "execute_result"
    }
   ],
   "source": [
    "import pandas as pd\n",
    "import matplotlib as plt\n",
    "reviews = pd.read_csv('IGNRev.csv')\n",
    "reviews.head()"
   ]
  },
  {
   "cell_type": "code",
   "execution_count": 23,
   "metadata": {},
   "outputs": [
    {
     "data": {
      "text/plain": [
       "(18625, 11)"
      ]
     },
     "execution_count": 23,
     "metadata": {},
     "output_type": "execute_result"
    }
   ],
   "source": [
    "reviews.shape"
   ]
  },
  {
   "cell_type": "code",
   "execution_count": 24,
   "metadata": {},
   "outputs": [
    {
     "data": {
      "text/plain": [
       "RangeIndex(start=0, stop=18625, step=1)"
      ]
     },
     "execution_count": 24,
     "metadata": {},
     "output_type": "execute_result"
    }
   ],
   "source": [
    "reviews.index"
   ]
  },
  {
   "cell_type": "code",
   "execution_count": 25,
   "metadata": {},
   "outputs": [
    {
     "name": "stdout",
     "output_type": "stream",
     "text": [
      "<class 'pandas.core.frame.DataFrame'>\n",
      "RangeIndex: 18625 entries, 0 to 18624\n",
      "Data columns (total 11 columns):\n",
      " #   Column          Non-Null Count  Dtype  \n",
      "---  ------          --------------  -----  \n",
      " 0   game_id         18625 non-null  int64  \n",
      " 1   score_phrase    18625 non-null  object \n",
      " 2   title           18625 non-null  object \n",
      " 3   url             18625 non-null  object \n",
      " 4   platform        18625 non-null  object \n",
      " 5   score           18625 non-null  float64\n",
      " 6   genre           18589 non-null  object \n",
      " 7   editors_choice  18625 non-null  object \n",
      " 8   release_year    18625 non-null  int64  \n",
      " 9   release_month   18625 non-null  int64  \n",
      " 10  release_day     18625 non-null  int64  \n",
      "dtypes: float64(1), int64(4), object(6)\n",
      "memory usage: 1.6+ MB\n"
     ]
    }
   ],
   "source": [
    "reviews.info()"
   ]
  },
  {
   "cell_type": "markdown",
   "metadata": {},
   "source": [
    "### === iloc() examples - name attribute ==="
   ]
  },
  {
   "cell_type": "code",
   "execution_count": 26,
   "metadata": {},
   "outputs": [
    {
     "data": {
      "text/plain": [
       "'score_phrase'"
      ]
     },
     "execution_count": 26,
     "metadata": {},
     "output_type": "execute_result"
    }
   ],
   "source": [
    "#Gives you the name of the column at index position one fo the columns   \n",
    "reviews.iloc[:,1].name"
   ]
  },
  {
   "cell_type": "code",
   "execution_count": 27,
   "metadata": {},
   "outputs": [
    {
     "data": {
      "text/plain": [
       "1"
      ]
     },
     "execution_count": 27,
     "metadata": {},
     "output_type": "execute_result"
    }
   ],
   "source": [
    "#gives you the name of the row at index position one of the rows\n",
    "reviews.iloc[1,:].name"
   ]
  },
  {
   "cell_type": "code",
   "execution_count": 28,
   "metadata": {},
   "outputs": [
    {
     "data": {
      "text/html": [
       "<div>\n",
       "<style scoped>\n",
       "    .dataframe tbody tr th:only-of-type {\n",
       "        vertical-align: middle;\n",
       "    }\n",
       "\n",
       "    .dataframe tbody tr th {\n",
       "        vertical-align: top;\n",
       "    }\n",
       "\n",
       "    .dataframe thead th {\n",
       "        text-align: right;\n",
       "    }\n",
       "</style>\n",
       "<table border=\"1\" class=\"dataframe\">\n",
       "  <thead>\n",
       "    <tr style=\"text-align: right;\">\n",
       "      <th></th>\n",
       "      <th>game_id</th>\n",
       "      <th>score_phrase</th>\n",
       "      <th>title</th>\n",
       "      <th>url</th>\n",
       "      <th>platform</th>\n",
       "    </tr>\n",
       "  </thead>\n",
       "  <tbody>\n",
       "    <tr>\n",
       "      <th>0</th>\n",
       "      <td>1</td>\n",
       "      <td>Amazing</td>\n",
       "      <td>LittleBigPlanet PS Vita</td>\n",
       "      <td>/games/littlebigplanet-vita/vita-98907</td>\n",
       "      <td>PlayStation Vita</td>\n",
       "    </tr>\n",
       "    <tr>\n",
       "      <th>1</th>\n",
       "      <td>2</td>\n",
       "      <td>Amazing</td>\n",
       "      <td>LittleBigPlanet PS Vita -- Marvel Super Hero E...</td>\n",
       "      <td>/games/littlebigplanet-ps-vita-marvel-super-he...</td>\n",
       "      <td>PlayStation Vita</td>\n",
       "    </tr>\n",
       "    <tr>\n",
       "      <th>2</th>\n",
       "      <td>3</td>\n",
       "      <td>Great</td>\n",
       "      <td>Splice: Tree of Life</td>\n",
       "      <td>/games/splice/ipad-141070</td>\n",
       "      <td>iPad</td>\n",
       "    </tr>\n",
       "    <tr>\n",
       "      <th>3</th>\n",
       "      <td>4</td>\n",
       "      <td>Great</td>\n",
       "      <td>NHL 13</td>\n",
       "      <td>/games/nhl-13/xbox-360-128182</td>\n",
       "      <td>Xbox 360</td>\n",
       "    </tr>\n",
       "    <tr>\n",
       "      <th>4</th>\n",
       "      <td>5</td>\n",
       "      <td>Great</td>\n",
       "      <td>NHL 13</td>\n",
       "      <td>/games/nhl-13/ps3-128181</td>\n",
       "      <td>PlayStation 3</td>\n",
       "    </tr>\n",
       "  </tbody>\n",
       "</table>\n",
       "</div>"
      ],
      "text/plain": [
       "   game_id score_phrase                                              title  \\\n",
       "0        1      Amazing                            LittleBigPlanet PS Vita   \n",
       "1        2      Amazing  LittleBigPlanet PS Vita -- Marvel Super Hero E...   \n",
       "2        3        Great                               Splice: Tree of Life   \n",
       "3        4        Great                                             NHL 13   \n",
       "4        5        Great                                             NHL 13   \n",
       "\n",
       "                                                 url          platform  \n",
       "0             /games/littlebigplanet-vita/vita-98907  PlayStation Vita  \n",
       "1  /games/littlebigplanet-ps-vita-marvel-super-he...  PlayStation Vita  \n",
       "2                          /games/splice/ipad-141070              iPad  \n",
       "3                      /games/nhl-13/xbox-360-128182          Xbox 360  \n",
       "4                           /games/nhl-13/ps3-128181     PlayStation 3  "
      ]
     },
     "execution_count": 28,
     "metadata": {},
     "output_type": "execute_result"
    }
   ],
   "source": [
    "#gives you the first 5 rows and the first 5 columns by index position\n",
    "reviews.iloc[0:5, 0:5]"
   ]
  },
  {
   "cell_type": "code",
   "execution_count": 29,
   "metadata": {},
   "outputs": [
    {
     "data": {
      "text/plain": [
       "0            Amazing\n",
       "1            Amazing\n",
       "2              Great\n",
       "3              Great\n",
       "4              Great\n",
       "            ...     \n",
       "18620           Good\n",
       "18621        Amazing\n",
       "18622       Mediocre\n",
       "18623    Masterpiece\n",
       "18624    Masterpiece\n",
       "Name: score_phrase, Length: 18625, dtype: object"
      ]
     },
     "execution_count": 29,
     "metadata": {},
     "output_type": "execute_result"
    }
   ],
   "source": [
    "# All the rows for the column one\n",
    "reviews.iloc[:,1]"
   ]
  },
  {
   "cell_type": "code",
   "execution_count": 30,
   "metadata": {},
   "outputs": [
    {
     "data": {
      "text/plain": [
       "game_id                                                  10\n",
       "score_phrase                                           Good\n",
       "title                             Total War Battles: Shogun\n",
       "url               /games/total-war-battles-shogun/pc-142564\n",
       "platform                                                 PC\n",
       "score                                                   7.0\n",
       "genre                                              Strategy\n",
       "editors_choice                                            N\n",
       "release_year                                           2012\n",
       "release_month                                             9\n",
       "release_day                                              11\n",
       "Name: 9, dtype: object"
      ]
     },
     "execution_count": 30,
     "metadata": {},
     "output_type": "execute_result"
    }
   ],
   "source": [
    "#all the columns for index row nine\n",
    "reviews.iloc[9,:]\n",
    "# TIP - QUICK WAY TO SEE A FULL RECORD (ROW) IN DATASET"
   ]
  },
  {
   "cell_type": "markdown",
   "metadata": {},
   "source": [
    "### === loc() examples ==="
   ]
  },
  {
   "cell_type": "code",
   "execution_count": 31,
   "metadata": {},
   "outputs": [
    {
     "data": {
      "text/html": [
       "<div>\n",
       "<style scoped>\n",
       "    .dataframe tbody tr th:only-of-type {\n",
       "        vertical-align: middle;\n",
       "    }\n",
       "\n",
       "    .dataframe tbody tr th {\n",
       "        vertical-align: top;\n",
       "    }\n",
       "\n",
       "    .dataframe thead th {\n",
       "        text-align: right;\n",
       "    }\n",
       "</style>\n",
       "<table border=\"1\" class=\"dataframe\">\n",
       "  <thead>\n",
       "    <tr style=\"text-align: right;\">\n",
       "      <th></th>\n",
       "      <th>game_id</th>\n",
       "      <th>score_phrase</th>\n",
       "      <th>title</th>\n",
       "    </tr>\n",
       "  </thead>\n",
       "  <tbody>\n",
       "    <tr>\n",
       "      <th>0</th>\n",
       "      <td>1</td>\n",
       "      <td>Amazing</td>\n",
       "      <td>LittleBigPlanet PS Vita</td>\n",
       "    </tr>\n",
       "    <tr>\n",
       "      <th>1</th>\n",
       "      <td>2</td>\n",
       "      <td>Amazing</td>\n",
       "      <td>LittleBigPlanet PS Vita -- Marvel Super Hero E...</td>\n",
       "    </tr>\n",
       "    <tr>\n",
       "      <th>2</th>\n",
       "      <td>3</td>\n",
       "      <td>Great</td>\n",
       "      <td>Splice: Tree of Life</td>\n",
       "    </tr>\n",
       "    <tr>\n",
       "      <th>3</th>\n",
       "      <td>4</td>\n",
       "      <td>Great</td>\n",
       "      <td>NHL 13</td>\n",
       "    </tr>\n",
       "    <tr>\n",
       "      <th>4</th>\n",
       "      <td>5</td>\n",
       "      <td>Great</td>\n",
       "      <td>NHL 13</td>\n",
       "    </tr>\n",
       "    <tr>\n",
       "      <th>5</th>\n",
       "      <td>6</td>\n",
       "      <td>Good</td>\n",
       "      <td>Total War Battles: Shogun</td>\n",
       "    </tr>\n",
       "  </tbody>\n",
       "</table>\n",
       "</div>"
      ],
      "text/plain": [
       "   game_id score_phrase                                              title\n",
       "0        1      Amazing                            LittleBigPlanet PS Vita\n",
       "1        2      Amazing  LittleBigPlanet PS Vita -- Marvel Super Hero E...\n",
       "2        3        Great                               Splice: Tree of Life\n",
       "3        4        Great                                             NHL 13\n",
       "4        5        Great                                             NHL 13\n",
       "5        6         Good                          Total War Battles: Shogun"
      ]
     },
     "execution_count": 31,
     "metadata": {},
     "output_type": "execute_result"
    }
   ],
   "source": [
    "# gives you the rows from zero to five inclusive & the columns from game_id to title\n",
    "reviews.loc[0:5, 'game_id' : 'title']"
   ]
  },
  {
   "cell_type": "code",
   "execution_count": 32,
   "metadata": {},
   "outputs": [
    {
     "data": {
      "text/html": [
       "<div>\n",
       "<style scoped>\n",
       "    .dataframe tbody tr th:only-of-type {\n",
       "        vertical-align: middle;\n",
       "    }\n",
       "\n",
       "    .dataframe tbody tr th {\n",
       "        vertical-align: top;\n",
       "    }\n",
       "\n",
       "    .dataframe thead th {\n",
       "        text-align: right;\n",
       "    }\n",
       "</style>\n",
       "<table border=\"1\" class=\"dataframe\">\n",
       "  <thead>\n",
       "    <tr style=\"text-align: right;\">\n",
       "      <th></th>\n",
       "      <th>score</th>\n",
       "      <th>title</th>\n",
       "    </tr>\n",
       "  </thead>\n",
       "  <tbody>\n",
       "    <tr>\n",
       "      <th>0</th>\n",
       "      <td>9.0</td>\n",
       "      <td>LittleBigPlanet PS Vita</td>\n",
       "    </tr>\n",
       "    <tr>\n",
       "      <th>1</th>\n",
       "      <td>9.0</td>\n",
       "      <td>LittleBigPlanet PS Vita -- Marvel Super Hero E...</td>\n",
       "    </tr>\n",
       "    <tr>\n",
       "      <th>2</th>\n",
       "      <td>8.5</td>\n",
       "      <td>Splice: Tree of Life</td>\n",
       "    </tr>\n",
       "    <tr>\n",
       "      <th>3</th>\n",
       "      <td>8.5</td>\n",
       "      <td>NHL 13</td>\n",
       "    </tr>\n",
       "    <tr>\n",
       "      <th>4</th>\n",
       "      <td>8.5</td>\n",
       "      <td>NHL 13</td>\n",
       "    </tr>\n",
       "    <tr>\n",
       "      <th>5</th>\n",
       "      <td>7.0</td>\n",
       "      <td>Total War Battles: Shogun</td>\n",
       "    </tr>\n",
       "  </tbody>\n",
       "</table>\n",
       "</div>"
      ],
      "text/plain": [
       "   score                                              title\n",
       "0    9.0                            LittleBigPlanet PS Vita\n",
       "1    9.0  LittleBigPlanet PS Vita -- Marvel Super Hero E...\n",
       "2    8.5                               Splice: Tree of Life\n",
       "3    8.5                                             NHL 13\n",
       "4    8.5                                             NHL 13\n",
       "5    7.0                          Total War Battles: Shogun"
      ]
     },
     "execution_count": 32,
     "metadata": {},
     "output_type": "execute_result"
    }
   ],
   "source": [
    "# Pick specific series. not that the order will display as entered in the code\n",
    "reviews.loc[:5, ['score', 'title']]"
   ]
  },
  {
   "cell_type": "markdown",
   "metadata": {},
   "source": [
    "### === Retrieve a Series ==="
   ]
  },
  {
   "cell_type": "code",
   "execution_count": 33,
   "metadata": {},
   "outputs": [
    {
     "data": {
      "text/plain": [
       "0         9.0\n",
       "1         9.0\n",
       "2         8.5\n",
       "3         8.5\n",
       "4         8.5\n",
       "         ... \n",
       "18620     7.6\n",
       "18621     9.0\n",
       "18622     5.8\n",
       "18623    10.0\n",
       "18624    10.0\n",
       "Name: score, Length: 18625, dtype: float64"
      ]
     },
     "execution_count": 33,
     "metadata": {},
     "output_type": "execute_result"
    }
   ],
   "source": [
    "# Gets the whole list of entries in the score series by just using the series name\n",
    "reviews['score']"
   ]
  },
  {
   "cell_type": "code",
   "execution_count": 34,
   "metadata": {},
   "outputs": [
    {
     "data": {
      "text/plain": [
       "0    9.0\n",
       "1    9.0\n",
       "2    8.5\n",
       "3    8.5\n",
       "4    8.5\n",
       "Name: score, dtype: float64"
      ]
     },
     "execution_count": 34,
     "metadata": {},
     "output_type": "execute_result"
    }
   ],
   "source": [
    "#the head method can be applied to series as well as the dataframe\n",
    "reviews['score'].head()"
   ]
  },
  {
   "cell_type": "markdown",
   "metadata": {},
   "source": [
    "### === List of columns ==="
   ]
  },
  {
   "cell_type": "code",
   "execution_count": 35,
   "metadata": {},
   "outputs": [
    {
     "data": {
      "text/plain": [
       "['game_id',\n",
       " 'score_phrase',\n",
       " 'title',\n",
       " 'url',\n",
       " 'platform',\n",
       " 'score',\n",
       " 'genre',\n",
       " 'editors_choice',\n",
       " 'release_year',\n",
       " 'release_month',\n",
       " 'release_day']"
      ]
     },
     "execution_count": 35,
     "metadata": {},
     "output_type": "execute_result"
    }
   ],
   "source": [
    "# Shows list of column labels \n",
    "list(reviews.columns)"
   ]
  },
  {
   "cell_type": "code",
   "execution_count": 36,
   "metadata": {},
   "outputs": [
    {
     "name": "stdout",
     "output_type": "stream",
     "text": [
      "editors_choice\n",
      "game_id\n",
      "genre\n",
      "platform\n",
      "release_day\n",
      "release_month\n",
      "release_year\n",
      "score\n",
      "score_phrase\n",
      "title\n",
      "url\n"
     ]
    }
   ],
   "source": [
    "# Getting a list of columns in alphabetical order without speech marks\n",
    "list(reviews.columns)\n",
    "my_cols = list(reviews.columns)\n",
    "my_sorted_cols = sorted(my_cols)\n",
    "for col in my_sorted_cols:\n",
    "     print(col)"
   ]
  },
  {
   "cell_type": "markdown",
   "metadata": {},
   "source": [
    "### === drop() ==="
   ]
  },
  {
   "cell_type": "code",
   "execution_count": 39,
   "metadata": {},
   "outputs": [
    {
     "data": {
      "text/html": [
       "<div>\n",
       "<style scoped>\n",
       "    .dataframe tbody tr th:only-of-type {\n",
       "        vertical-align: middle;\n",
       "    }\n",
       "\n",
       "    .dataframe tbody tr th {\n",
       "        vertical-align: top;\n",
       "    }\n",
       "\n",
       "    .dataframe thead th {\n",
       "        text-align: right;\n",
       "    }\n",
       "</style>\n",
       "<table border=\"1\" class=\"dataframe\">\n",
       "  <thead>\n",
       "    <tr style=\"text-align: right;\">\n",
       "      <th></th>\n",
       "      <th>game_id</th>\n",
       "      <th>score_phrase</th>\n",
       "      <th>title</th>\n",
       "      <th>platform</th>\n",
       "      <th>score</th>\n",
       "      <th>genre</th>\n",
       "      <th>editors_choice</th>\n",
       "      <th>release_year</th>\n",
       "      <th>release_month</th>\n",
       "      <th>release_day</th>\n",
       "    </tr>\n",
       "  </thead>\n",
       "  <tbody>\n",
       "    <tr>\n",
       "      <th>0</th>\n",
       "      <td>1</td>\n",
       "      <td>Amazing</td>\n",
       "      <td>LittleBigPlanet PS Vita</td>\n",
       "      <td>PlayStation Vita</td>\n",
       "      <td>9.0</td>\n",
       "      <td>Platformer</td>\n",
       "      <td>Y</td>\n",
       "      <td>2012</td>\n",
       "      <td>9</td>\n",
       "      <td>12</td>\n",
       "    </tr>\n",
       "    <tr>\n",
       "      <th>1</th>\n",
       "      <td>2</td>\n",
       "      <td>Amazing</td>\n",
       "      <td>LittleBigPlanet PS Vita -- Marvel Super Hero E...</td>\n",
       "      <td>PlayStation Vita</td>\n",
       "      <td>9.0</td>\n",
       "      <td>Platformer</td>\n",
       "      <td>Y</td>\n",
       "      <td>2012</td>\n",
       "      <td>9</td>\n",
       "      <td>12</td>\n",
       "    </tr>\n",
       "    <tr>\n",
       "      <th>2</th>\n",
       "      <td>3</td>\n",
       "      <td>Great</td>\n",
       "      <td>Splice: Tree of Life</td>\n",
       "      <td>iPad</td>\n",
       "      <td>8.5</td>\n",
       "      <td>Puzzle</td>\n",
       "      <td>N</td>\n",
       "      <td>2012</td>\n",
       "      <td>9</td>\n",
       "      <td>12</td>\n",
       "    </tr>\n",
       "    <tr>\n",
       "      <th>3</th>\n",
       "      <td>4</td>\n",
       "      <td>Great</td>\n",
       "      <td>NHL 13</td>\n",
       "      <td>Xbox 360</td>\n",
       "      <td>8.5</td>\n",
       "      <td>Sports</td>\n",
       "      <td>N</td>\n",
       "      <td>2012</td>\n",
       "      <td>9</td>\n",
       "      <td>11</td>\n",
       "    </tr>\n",
       "    <tr>\n",
       "      <th>4</th>\n",
       "      <td>5</td>\n",
       "      <td>Great</td>\n",
       "      <td>NHL 13</td>\n",
       "      <td>PlayStation 3</td>\n",
       "      <td>8.5</td>\n",
       "      <td>Sports</td>\n",
       "      <td>N</td>\n",
       "      <td>2012</td>\n",
       "      <td>9</td>\n",
       "      <td>11</td>\n",
       "    </tr>\n",
       "  </tbody>\n",
       "</table>\n",
       "</div>"
      ],
      "text/plain": [
       "   game_id score_phrase                                              title  \\\n",
       "0        1      Amazing                            LittleBigPlanet PS Vita   \n",
       "1        2      Amazing  LittleBigPlanet PS Vita -- Marvel Super Hero E...   \n",
       "2        3        Great                               Splice: Tree of Life   \n",
       "3        4        Great                                             NHL 13   \n",
       "4        5        Great                                             NHL 13   \n",
       "\n",
       "           platform  score       genre editors_choice  release_year  \\\n",
       "0  PlayStation Vita    9.0  Platformer              Y          2012   \n",
       "1  PlayStation Vita    9.0  Platformer              Y          2012   \n",
       "2              iPad    8.5      Puzzle              N          2012   \n",
       "3          Xbox 360    8.5      Sports              N          2012   \n",
       "4     PlayStation 3    8.5      Sports              N          2012   \n",
       "\n",
       "   release_month  release_day  \n",
       "0              9           12  \n",
       "1              9           12  \n",
       "2              9           12  \n",
       "3              9           11  \n",
       "4              9           11  "
      ]
     },
     "execution_count": 39,
     "metadata": {},
     "output_type": "execute_result"
    }
   ],
   "source": [
    "# Drop a columns that is not needed\n",
    "reviews.drop(columns = ['url'], axis = 1, inplace = True)\n",
    "reviews.head()"
   ]
  },
  {
   "cell_type": "markdown",
   "metadata": {},
   "source": [
    "### === Basic Statistics ==="
   ]
  },
  {
   "cell_type": "code",
   "execution_count": 40,
   "metadata": {},
   "outputs": [
    {
     "data": {
      "text/html": [
       "<div>\n",
       "<style scoped>\n",
       "    .dataframe tbody tr th:only-of-type {\n",
       "        vertical-align: middle;\n",
       "    }\n",
       "\n",
       "    .dataframe tbody tr th {\n",
       "        vertical-align: top;\n",
       "    }\n",
       "\n",
       "    .dataframe thead th {\n",
       "        text-align: right;\n",
       "    }\n",
       "</style>\n",
       "<table border=\"1\" class=\"dataframe\">\n",
       "  <thead>\n",
       "    <tr style=\"text-align: right;\">\n",
       "      <th></th>\n",
       "      <th>game_id</th>\n",
       "      <th>score</th>\n",
       "      <th>release_year</th>\n",
       "      <th>release_month</th>\n",
       "      <th>release_day</th>\n",
       "    </tr>\n",
       "  </thead>\n",
       "  <tbody>\n",
       "    <tr>\n",
       "      <th>count</th>\n",
       "      <td>18625.000000</td>\n",
       "      <td>18625.000000</td>\n",
       "      <td>18625.000000</td>\n",
       "      <td>18625.00000</td>\n",
       "      <td>18625.000000</td>\n",
       "    </tr>\n",
       "    <tr>\n",
       "      <th>mean</th>\n",
       "      <td>9313.000000</td>\n",
       "      <td>6.950459</td>\n",
       "      <td>2006.515329</td>\n",
       "      <td>7.13847</td>\n",
       "      <td>15.603866</td>\n",
       "    </tr>\n",
       "    <tr>\n",
       "      <th>std</th>\n",
       "      <td>5376.718717</td>\n",
       "      <td>1.711736</td>\n",
       "      <td>4.587529</td>\n",
       "      <td>3.47671</td>\n",
       "      <td>8.690128</td>\n",
       "    </tr>\n",
       "    <tr>\n",
       "      <th>min</th>\n",
       "      <td>1.000000</td>\n",
       "      <td>0.500000</td>\n",
       "      <td>1970.000000</td>\n",
       "      <td>1.00000</td>\n",
       "      <td>1.000000</td>\n",
       "    </tr>\n",
       "    <tr>\n",
       "      <th>25%</th>\n",
       "      <td>4657.000000</td>\n",
       "      <td>6.000000</td>\n",
       "      <td>2003.000000</td>\n",
       "      <td>4.00000</td>\n",
       "      <td>8.000000</td>\n",
       "    </tr>\n",
       "    <tr>\n",
       "      <th>50%</th>\n",
       "      <td>9313.000000</td>\n",
       "      <td>7.300000</td>\n",
       "      <td>2007.000000</td>\n",
       "      <td>8.00000</td>\n",
       "      <td>16.000000</td>\n",
       "    </tr>\n",
       "    <tr>\n",
       "      <th>75%</th>\n",
       "      <td>13969.000000</td>\n",
       "      <td>8.200000</td>\n",
       "      <td>2010.000000</td>\n",
       "      <td>10.00000</td>\n",
       "      <td>23.000000</td>\n",
       "    </tr>\n",
       "    <tr>\n",
       "      <th>max</th>\n",
       "      <td>18625.000000</td>\n",
       "      <td>10.000000</td>\n",
       "      <td>2016.000000</td>\n",
       "      <td>12.00000</td>\n",
       "      <td>31.000000</td>\n",
       "    </tr>\n",
       "  </tbody>\n",
       "</table>\n",
       "</div>"
      ],
      "text/plain": [
       "            game_id         score  release_year  release_month   release_day\n",
       "count  18625.000000  18625.000000  18625.000000    18625.00000  18625.000000\n",
       "mean    9313.000000      6.950459   2006.515329        7.13847     15.603866\n",
       "std     5376.718717      1.711736      4.587529        3.47671      8.690128\n",
       "min        1.000000      0.500000   1970.000000        1.00000      1.000000\n",
       "25%     4657.000000      6.000000   2003.000000        4.00000      8.000000\n",
       "50%     9313.000000      7.300000   2007.000000        8.00000     16.000000\n",
       "75%    13969.000000      8.200000   2010.000000       10.00000     23.000000\n",
       "max    18625.000000     10.000000   2016.000000       12.00000     31.000000"
      ]
     },
     "execution_count": 40,
     "metadata": {},
     "output_type": "execute_result"
    }
   ],
   "source": [
    "# Basic statistical information for columns containing integers or floats\n",
    "reviews.describe()"
   ]
  },
  {
   "cell_type": "code",
   "execution_count": 41,
   "metadata": {},
   "outputs": [
    {
     "data": {
      "text/plain": [
       "6.950459060402666"
      ]
     },
     "execution_count": 41,
     "metadata": {},
     "output_type": "execute_result"
    }
   ],
   "source": [
    "# MEan for one series\n",
    "reviews['score'].mean()"
   ]
  },
  {
   "cell_type": "code",
   "execution_count": 42,
   "metadata": {},
   "outputs": [
    {
     "name": "stderr",
     "output_type": "stream",
     "text": [
      "/var/folders/1d/jx3xxhrj0xlbgrnyslfl5xhr0000gn/T/ipykernel_6335/2280098434.py:2: FutureWarning: Dropping of nuisance columns in DataFrame reductions (with 'numeric_only=None') is deprecated; in a future version this will raise TypeError.  Select only valid columns before calling the reduction.\n",
      "  reviews.mean()\n"
     ]
    },
    {
     "data": {
      "text/plain": [
       "game_id          9313.000000\n",
       "score               6.950459\n",
       "release_year     2006.515329\n",
       "release_month       7.138470\n",
       "release_day        15.603866\n",
       "dtype: float64"
      ]
     },
     "execution_count": 42,
     "metadata": {},
     "output_type": "execute_result"
    }
   ],
   "source": [
    "#mean for all numerical series in datasets\n",
    "reviews.mean()"
   ]
  },
  {
   "cell_type": "code",
   "execution_count": 43,
   "metadata": {},
   "outputs": [
    {
     "data": {
      "text/plain": [
       "7.3"
      ]
     },
     "execution_count": 43,
     "metadata": {},
     "output_type": "execute_result"
    }
   ],
   "source": [
    "reviews['score'].median()"
   ]
  },
  {
   "cell_type": "code",
   "execution_count": 44,
   "metadata": {},
   "outputs": [
    {
     "data": {
      "text/plain": [
       "0    8.0\n",
       "Name: score, dtype: float64"
      ]
     },
     "execution_count": 44,
     "metadata": {},
     "output_type": "execute_result"
    }
   ],
   "source": [
    "reviews['score'].mode()"
   ]
  },
  {
   "cell_type": "markdown",
   "metadata": {},
   "source": [
    "### === Boolean Indexing ==="
   ]
  },
  {
   "cell_type": "code",
   "execution_count": 45,
   "metadata": {},
   "outputs": [
    {
     "data": {
      "text/plain": [
       "0         True\n",
       "1         True\n",
       "2         True\n",
       "3         True\n",
       "4         True\n",
       "         ...  \n",
       "18620     True\n",
       "18621     True\n",
       "18622    False\n",
       "18623     True\n",
       "18624     True\n",
       "Name: score, Length: 18625, dtype: bool"
      ]
     },
     "execution_count": 45,
     "metadata": {},
     "output_type": "execute_result"
    }
   ],
   "source": [
    "# Creating variable to store results of filter for review scores\n",
    "score_filter = reviews['score'] > 7\n",
    "score_filter"
   ]
  },
  {
   "cell_type": "code",
   "execution_count": 46,
   "metadata": {},
   "outputs": [
    {
     "data": {
      "text/html": [
       "<div>\n",
       "<style scoped>\n",
       "    .dataframe tbody tr th:only-of-type {\n",
       "        vertical-align: middle;\n",
       "    }\n",
       "\n",
       "    .dataframe tbody tr th {\n",
       "        vertical-align: top;\n",
       "    }\n",
       "\n",
       "    .dataframe thead th {\n",
       "        text-align: right;\n",
       "    }\n",
       "</style>\n",
       "<table border=\"1\" class=\"dataframe\">\n",
       "  <thead>\n",
       "    <tr style=\"text-align: right;\">\n",
       "      <th></th>\n",
       "      <th>game_id</th>\n",
       "      <th>score_phrase</th>\n",
       "      <th>title</th>\n",
       "      <th>platform</th>\n",
       "      <th>score</th>\n",
       "      <th>genre</th>\n",
       "      <th>editors_choice</th>\n",
       "      <th>release_year</th>\n",
       "      <th>release_month</th>\n",
       "      <th>release_day</th>\n",
       "    </tr>\n",
       "  </thead>\n",
       "  <tbody>\n",
       "    <tr>\n",
       "      <th>0</th>\n",
       "      <td>1</td>\n",
       "      <td>Amazing</td>\n",
       "      <td>LittleBigPlanet PS Vita</td>\n",
       "      <td>PlayStation Vita</td>\n",
       "      <td>9.0</td>\n",
       "      <td>Platformer</td>\n",
       "      <td>Y</td>\n",
       "      <td>2012</td>\n",
       "      <td>9</td>\n",
       "      <td>12</td>\n",
       "    </tr>\n",
       "    <tr>\n",
       "      <th>1</th>\n",
       "      <td>2</td>\n",
       "      <td>Amazing</td>\n",
       "      <td>LittleBigPlanet PS Vita -- Marvel Super Hero E...</td>\n",
       "      <td>PlayStation Vita</td>\n",
       "      <td>9.0</td>\n",
       "      <td>Platformer</td>\n",
       "      <td>Y</td>\n",
       "      <td>2012</td>\n",
       "      <td>9</td>\n",
       "      <td>12</td>\n",
       "    </tr>\n",
       "    <tr>\n",
       "      <th>2</th>\n",
       "      <td>3</td>\n",
       "      <td>Great</td>\n",
       "      <td>Splice: Tree of Life</td>\n",
       "      <td>iPad</td>\n",
       "      <td>8.5</td>\n",
       "      <td>Puzzle</td>\n",
       "      <td>N</td>\n",
       "      <td>2012</td>\n",
       "      <td>9</td>\n",
       "      <td>12</td>\n",
       "    </tr>\n",
       "    <tr>\n",
       "      <th>3</th>\n",
       "      <td>4</td>\n",
       "      <td>Great</td>\n",
       "      <td>NHL 13</td>\n",
       "      <td>Xbox 360</td>\n",
       "      <td>8.5</td>\n",
       "      <td>Sports</td>\n",
       "      <td>N</td>\n",
       "      <td>2012</td>\n",
       "      <td>9</td>\n",
       "      <td>11</td>\n",
       "    </tr>\n",
       "    <tr>\n",
       "      <th>4</th>\n",
       "      <td>5</td>\n",
       "      <td>Great</td>\n",
       "      <td>NHL 13</td>\n",
       "      <td>PlayStation 3</td>\n",
       "      <td>8.5</td>\n",
       "      <td>Sports</td>\n",
       "      <td>N</td>\n",
       "      <td>2012</td>\n",
       "      <td>9</td>\n",
       "      <td>11</td>\n",
       "    </tr>\n",
       "    <tr>\n",
       "      <th>...</th>\n",
       "      <td>...</td>\n",
       "      <td>...</td>\n",
       "      <td>...</td>\n",
       "      <td>...</td>\n",
       "      <td>...</td>\n",
       "      <td>...</td>\n",
       "      <td>...</td>\n",
       "      <td>...</td>\n",
       "      <td>...</td>\n",
       "      <td>...</td>\n",
       "    </tr>\n",
       "    <tr>\n",
       "      <th>18619</th>\n",
       "      <td>18620</td>\n",
       "      <td>Good</td>\n",
       "      <td>Human Fall Flat</td>\n",
       "      <td>PC</td>\n",
       "      <td>7.9</td>\n",
       "      <td>Puzzle, Action</td>\n",
       "      <td>N</td>\n",
       "      <td>2016</td>\n",
       "      <td>7</td>\n",
       "      <td>28</td>\n",
       "    </tr>\n",
       "    <tr>\n",
       "      <th>18620</th>\n",
       "      <td>18621</td>\n",
       "      <td>Good</td>\n",
       "      <td>Tokyo Mirage Sessions #FE</td>\n",
       "      <td>Wii U</td>\n",
       "      <td>7.6</td>\n",
       "      <td>RPG</td>\n",
       "      <td>N</td>\n",
       "      <td>2016</td>\n",
       "      <td>6</td>\n",
       "      <td>29</td>\n",
       "    </tr>\n",
       "    <tr>\n",
       "      <th>18621</th>\n",
       "      <td>18622</td>\n",
       "      <td>Amazing</td>\n",
       "      <td>LEGO Star Wars: The Force Awakens</td>\n",
       "      <td>PlayStation 4</td>\n",
       "      <td>9.0</td>\n",
       "      <td>Action, Adventure</td>\n",
       "      <td>Y</td>\n",
       "      <td>2016</td>\n",
       "      <td>6</td>\n",
       "      <td>29</td>\n",
       "    </tr>\n",
       "    <tr>\n",
       "      <th>18623</th>\n",
       "      <td>18624</td>\n",
       "      <td>Masterpiece</td>\n",
       "      <td>Inside</td>\n",
       "      <td>Xbox One</td>\n",
       "      <td>10.0</td>\n",
       "      <td>Adventure</td>\n",
       "      <td>Y</td>\n",
       "      <td>2016</td>\n",
       "      <td>6</td>\n",
       "      <td>28</td>\n",
       "    </tr>\n",
       "    <tr>\n",
       "      <th>18624</th>\n",
       "      <td>18625</td>\n",
       "      <td>Masterpiece</td>\n",
       "      <td>Inside</td>\n",
       "      <td>PC</td>\n",
       "      <td>10.0</td>\n",
       "      <td>Adventure</td>\n",
       "      <td>Y</td>\n",
       "      <td>2016</td>\n",
       "      <td>6</td>\n",
       "      <td>28</td>\n",
       "    </tr>\n",
       "  </tbody>\n",
       "</table>\n",
       "<p>9800 rows × 10 columns</p>\n",
       "</div>"
      ],
      "text/plain": [
       "       game_id score_phrase  \\\n",
       "0            1      Amazing   \n",
       "1            2      Amazing   \n",
       "2            3        Great   \n",
       "3            4        Great   \n",
       "4            5        Great   \n",
       "...        ...          ...   \n",
       "18619    18620         Good   \n",
       "18620    18621         Good   \n",
       "18621    18622      Amazing   \n",
       "18623    18624  Masterpiece   \n",
       "18624    18625  Masterpiece   \n",
       "\n",
       "                                                   title          platform  \\\n",
       "0                                LittleBigPlanet PS Vita  PlayStation Vita   \n",
       "1      LittleBigPlanet PS Vita -- Marvel Super Hero E...  PlayStation Vita   \n",
       "2                                   Splice: Tree of Life              iPad   \n",
       "3                                                 NHL 13          Xbox 360   \n",
       "4                                                 NHL 13     PlayStation 3   \n",
       "...                                                  ...               ...   \n",
       "18619                                    Human Fall Flat                PC   \n",
       "18620                          Tokyo Mirage Sessions #FE             Wii U   \n",
       "18621                  LEGO Star Wars: The Force Awakens     PlayStation 4   \n",
       "18623                                             Inside          Xbox One   \n",
       "18624                                             Inside                PC   \n",
       "\n",
       "       score              genre editors_choice  release_year  release_month  \\\n",
       "0        9.0         Platformer              Y          2012              9   \n",
       "1        9.0         Platformer              Y          2012              9   \n",
       "2        8.5             Puzzle              N          2012              9   \n",
       "3        8.5             Sports              N          2012              9   \n",
       "4        8.5             Sports              N          2012              9   \n",
       "...      ...                ...            ...           ...            ...   \n",
       "18619    7.9     Puzzle, Action              N          2016              7   \n",
       "18620    7.6                RPG              N          2016              6   \n",
       "18621    9.0  Action, Adventure              Y          2016              6   \n",
       "18623   10.0          Adventure              Y          2016              6   \n",
       "18624   10.0          Adventure              Y          2016              6   \n",
       "\n",
       "       release_day  \n",
       "0               12  \n",
       "1               12  \n",
       "2               12  \n",
       "3               11  \n",
       "4               11  \n",
       "...            ...  \n",
       "18619           28  \n",
       "18620           29  \n",
       "18621           29  \n",
       "18623           28  \n",
       "18624           28  \n",
       "\n",
       "[9800 rows x 10 columns]"
      ]
     },
     "execution_count": 46,
     "metadata": {},
     "output_type": "execute_result"
    }
   ],
   "source": [
    "filtered_reviews = reviews[score_filter]\n",
    "filtered_reviews"
   ]
  },
  {
   "cell_type": "markdown",
   "metadata": {},
   "source": [
    "### === USing gt() ==="
   ]
  },
  {
   "cell_type": "code",
   "execution_count": 47,
   "metadata": {},
   "outputs": [
    {
     "data": {
      "text/html": [
       "<div>\n",
       "<style scoped>\n",
       "    .dataframe tbody tr th:only-of-type {\n",
       "        vertical-align: middle;\n",
       "    }\n",
       "\n",
       "    .dataframe tbody tr th {\n",
       "        vertical-align: top;\n",
       "    }\n",
       "\n",
       "    .dataframe thead th {\n",
       "        text-align: right;\n",
       "    }\n",
       "</style>\n",
       "<table border=\"1\" class=\"dataframe\">\n",
       "  <thead>\n",
       "    <tr style=\"text-align: right;\">\n",
       "      <th></th>\n",
       "      <th>game_id</th>\n",
       "      <th>score_phrase</th>\n",
       "      <th>title</th>\n",
       "      <th>platform</th>\n",
       "      <th>score</th>\n",
       "      <th>genre</th>\n",
       "      <th>editors_choice</th>\n",
       "      <th>release_year</th>\n",
       "      <th>release_month</th>\n",
       "      <th>release_day</th>\n",
       "    </tr>\n",
       "  </thead>\n",
       "  <tbody>\n",
       "    <tr>\n",
       "      <th>0</th>\n",
       "      <td>1</td>\n",
       "      <td>Amazing</td>\n",
       "      <td>LittleBigPlanet PS Vita</td>\n",
       "      <td>PlayStation Vita</td>\n",
       "      <td>9.0</td>\n",
       "      <td>Platformer</td>\n",
       "      <td>Y</td>\n",
       "      <td>2012</td>\n",
       "      <td>9</td>\n",
       "      <td>12</td>\n",
       "    </tr>\n",
       "    <tr>\n",
       "      <th>1</th>\n",
       "      <td>2</td>\n",
       "      <td>Amazing</td>\n",
       "      <td>LittleBigPlanet PS Vita -- Marvel Super Hero E...</td>\n",
       "      <td>PlayStation Vita</td>\n",
       "      <td>9.0</td>\n",
       "      <td>Platformer</td>\n",
       "      <td>Y</td>\n",
       "      <td>2012</td>\n",
       "      <td>9</td>\n",
       "      <td>12</td>\n",
       "    </tr>\n",
       "    <tr>\n",
       "      <th>2</th>\n",
       "      <td>3</td>\n",
       "      <td>Great</td>\n",
       "      <td>Splice: Tree of Life</td>\n",
       "      <td>iPad</td>\n",
       "      <td>8.5</td>\n",
       "      <td>Puzzle</td>\n",
       "      <td>N</td>\n",
       "      <td>2012</td>\n",
       "      <td>9</td>\n",
       "      <td>12</td>\n",
       "    </tr>\n",
       "    <tr>\n",
       "      <th>3</th>\n",
       "      <td>4</td>\n",
       "      <td>Great</td>\n",
       "      <td>NHL 13</td>\n",
       "      <td>Xbox 360</td>\n",
       "      <td>8.5</td>\n",
       "      <td>Sports</td>\n",
       "      <td>N</td>\n",
       "      <td>2012</td>\n",
       "      <td>9</td>\n",
       "      <td>11</td>\n",
       "    </tr>\n",
       "    <tr>\n",
       "      <th>4</th>\n",
       "      <td>5</td>\n",
       "      <td>Great</td>\n",
       "      <td>NHL 13</td>\n",
       "      <td>PlayStation 3</td>\n",
       "      <td>8.5</td>\n",
       "      <td>Sports</td>\n",
       "      <td>N</td>\n",
       "      <td>2012</td>\n",
       "      <td>9</td>\n",
       "      <td>11</td>\n",
       "    </tr>\n",
       "    <tr>\n",
       "      <th>...</th>\n",
       "      <td>...</td>\n",
       "      <td>...</td>\n",
       "      <td>...</td>\n",
       "      <td>...</td>\n",
       "      <td>...</td>\n",
       "      <td>...</td>\n",
       "      <td>...</td>\n",
       "      <td>...</td>\n",
       "      <td>...</td>\n",
       "      <td>...</td>\n",
       "    </tr>\n",
       "    <tr>\n",
       "      <th>18619</th>\n",
       "      <td>18620</td>\n",
       "      <td>Good</td>\n",
       "      <td>Human Fall Flat</td>\n",
       "      <td>PC</td>\n",
       "      <td>7.9</td>\n",
       "      <td>Puzzle, Action</td>\n",
       "      <td>N</td>\n",
       "      <td>2016</td>\n",
       "      <td>7</td>\n",
       "      <td>28</td>\n",
       "    </tr>\n",
       "    <tr>\n",
       "      <th>18620</th>\n",
       "      <td>18621</td>\n",
       "      <td>Good</td>\n",
       "      <td>Tokyo Mirage Sessions #FE</td>\n",
       "      <td>Wii U</td>\n",
       "      <td>7.6</td>\n",
       "      <td>RPG</td>\n",
       "      <td>N</td>\n",
       "      <td>2016</td>\n",
       "      <td>6</td>\n",
       "      <td>29</td>\n",
       "    </tr>\n",
       "    <tr>\n",
       "      <th>18621</th>\n",
       "      <td>18622</td>\n",
       "      <td>Amazing</td>\n",
       "      <td>LEGO Star Wars: The Force Awakens</td>\n",
       "      <td>PlayStation 4</td>\n",
       "      <td>9.0</td>\n",
       "      <td>Action, Adventure</td>\n",
       "      <td>Y</td>\n",
       "      <td>2016</td>\n",
       "      <td>6</td>\n",
       "      <td>29</td>\n",
       "    </tr>\n",
       "    <tr>\n",
       "      <th>18623</th>\n",
       "      <td>18624</td>\n",
       "      <td>Masterpiece</td>\n",
       "      <td>Inside</td>\n",
       "      <td>Xbox One</td>\n",
       "      <td>10.0</td>\n",
       "      <td>Adventure</td>\n",
       "      <td>Y</td>\n",
       "      <td>2016</td>\n",
       "      <td>6</td>\n",
       "      <td>28</td>\n",
       "    </tr>\n",
       "    <tr>\n",
       "      <th>18624</th>\n",
       "      <td>18625</td>\n",
       "      <td>Masterpiece</td>\n",
       "      <td>Inside</td>\n",
       "      <td>PC</td>\n",
       "      <td>10.0</td>\n",
       "      <td>Adventure</td>\n",
       "      <td>Y</td>\n",
       "      <td>2016</td>\n",
       "      <td>6</td>\n",
       "      <td>28</td>\n",
       "    </tr>\n",
       "  </tbody>\n",
       "</table>\n",
       "<p>9800 rows × 10 columns</p>\n",
       "</div>"
      ],
      "text/plain": [
       "       game_id score_phrase  \\\n",
       "0            1      Amazing   \n",
       "1            2      Amazing   \n",
       "2            3        Great   \n",
       "3            4        Great   \n",
       "4            5        Great   \n",
       "...        ...          ...   \n",
       "18619    18620         Good   \n",
       "18620    18621         Good   \n",
       "18621    18622      Amazing   \n",
       "18623    18624  Masterpiece   \n",
       "18624    18625  Masterpiece   \n",
       "\n",
       "                                                   title          platform  \\\n",
       "0                                LittleBigPlanet PS Vita  PlayStation Vita   \n",
       "1      LittleBigPlanet PS Vita -- Marvel Super Hero E...  PlayStation Vita   \n",
       "2                                   Splice: Tree of Life              iPad   \n",
       "3                                                 NHL 13          Xbox 360   \n",
       "4                                                 NHL 13     PlayStation 3   \n",
       "...                                                  ...               ...   \n",
       "18619                                    Human Fall Flat                PC   \n",
       "18620                          Tokyo Mirage Sessions #FE             Wii U   \n",
       "18621                  LEGO Star Wars: The Force Awakens     PlayStation 4   \n",
       "18623                                             Inside          Xbox One   \n",
       "18624                                             Inside                PC   \n",
       "\n",
       "       score              genre editors_choice  release_year  release_month  \\\n",
       "0        9.0         Platformer              Y          2012              9   \n",
       "1        9.0         Platformer              Y          2012              9   \n",
       "2        8.5             Puzzle              N          2012              9   \n",
       "3        8.5             Sports              N          2012              9   \n",
       "4        8.5             Sports              N          2012              9   \n",
       "...      ...                ...            ...           ...            ...   \n",
       "18619    7.9     Puzzle, Action              N          2016              7   \n",
       "18620    7.6                RPG              N          2016              6   \n",
       "18621    9.0  Action, Adventure              Y          2016              6   \n",
       "18623   10.0          Adventure              Y          2016              6   \n",
       "18624   10.0          Adventure              Y          2016              6   \n",
       "\n",
       "       release_day  \n",
       "0               12  \n",
       "1               12  \n",
       "2               12  \n",
       "3               11  \n",
       "4               11  \n",
       "...            ...  \n",
       "18619           28  \n",
       "18620           29  \n",
       "18621           29  \n",
       "18623           28  \n",
       "18624           28  \n",
       "\n",
       "[9800 rows x 10 columns]"
      ]
     },
     "execution_count": 47,
     "metadata": {},
     "output_type": "execute_result"
    }
   ],
   "source": [
    "filter_again = reviews[reviews.score.gt(7)]\n",
    "filter_again"
   ]
  },
  {
   "cell_type": "code",
   "execution_count": 48,
   "metadata": {},
   "outputs": [
    {
     "data": {
      "text/html": [
       "<div>\n",
       "<style scoped>\n",
       "    .dataframe tbody tr th:only-of-type {\n",
       "        vertical-align: middle;\n",
       "    }\n",
       "\n",
       "    .dataframe tbody tr th {\n",
       "        vertical-align: top;\n",
       "    }\n",
       "\n",
       "    .dataframe thead th {\n",
       "        text-align: right;\n",
       "    }\n",
       "</style>\n",
       "<table border=\"1\" class=\"dataframe\">\n",
       "  <thead>\n",
       "    <tr style=\"text-align: right;\">\n",
       "      <th></th>\n",
       "      <th>game_id</th>\n",
       "      <th>score_phrase</th>\n",
       "      <th>title</th>\n",
       "      <th>platform</th>\n",
       "      <th>score</th>\n",
       "      <th>genre</th>\n",
       "      <th>editors_choice</th>\n",
       "      <th>release_year</th>\n",
       "      <th>release_month</th>\n",
       "      <th>release_day</th>\n",
       "    </tr>\n",
       "  </thead>\n",
       "  <tbody>\n",
       "    <tr>\n",
       "      <th>17137</th>\n",
       "      <td>17138</td>\n",
       "      <td>Amazing</td>\n",
       "      <td>Gone Home</td>\n",
       "      <td>Xbox One</td>\n",
       "      <td>9.5</td>\n",
       "      <td>Simulation</td>\n",
       "      <td>Y</td>\n",
       "      <td>2013</td>\n",
       "      <td>8</td>\n",
       "      <td>15</td>\n",
       "    </tr>\n",
       "    <tr>\n",
       "      <th>17197</th>\n",
       "      <td>17198</td>\n",
       "      <td>Amazing</td>\n",
       "      <td>Rayman Legends</td>\n",
       "      <td>Xbox One</td>\n",
       "      <td>9.5</td>\n",
       "      <td>Platformer</td>\n",
       "      <td>Y</td>\n",
       "      <td>2013</td>\n",
       "      <td>8</td>\n",
       "      <td>26</td>\n",
       "    </tr>\n",
       "    <tr>\n",
       "      <th>17295</th>\n",
       "      <td>17296</td>\n",
       "      <td>Amazing</td>\n",
       "      <td>LEGO Marvel Super Heroes</td>\n",
       "      <td>Xbox One</td>\n",
       "      <td>9.0</td>\n",
       "      <td>Action</td>\n",
       "      <td>Y</td>\n",
       "      <td>2013</td>\n",
       "      <td>10</td>\n",
       "      <td>22</td>\n",
       "    </tr>\n",
       "    <tr>\n",
       "      <th>17313</th>\n",
       "      <td>17314</td>\n",
       "      <td>Great</td>\n",
       "      <td>Dead Rising 3</td>\n",
       "      <td>Xbox One</td>\n",
       "      <td>8.3</td>\n",
       "      <td>Action</td>\n",
       "      <td>N</td>\n",
       "      <td>2013</td>\n",
       "      <td>11</td>\n",
       "      <td>18</td>\n",
       "    </tr>\n",
       "    <tr>\n",
       "      <th>17317</th>\n",
       "      <td>17318</td>\n",
       "      <td>Great</td>\n",
       "      <td>Killer Instinct</td>\n",
       "      <td>Xbox One</td>\n",
       "      <td>8.4</td>\n",
       "      <td>Fighting</td>\n",
       "      <td>N</td>\n",
       "      <td>2013</td>\n",
       "      <td>11</td>\n",
       "      <td>18</td>\n",
       "    </tr>\n",
       "  </tbody>\n",
       "</table>\n",
       "</div>"
      ],
      "text/plain": [
       "       game_id score_phrase                     title  platform  score  \\\n",
       "17137    17138      Amazing                 Gone Home  Xbox One    9.5   \n",
       "17197    17198      Amazing            Rayman Legends  Xbox One    9.5   \n",
       "17295    17296      Amazing  LEGO Marvel Super Heroes  Xbox One    9.0   \n",
       "17313    17314        Great             Dead Rising 3  Xbox One    8.3   \n",
       "17317    17318        Great           Killer Instinct  Xbox One    8.4   \n",
       "\n",
       "            genre editors_choice  release_year  release_month  release_day  \n",
       "17137  Simulation              Y          2013              8           15  \n",
       "17197  Platformer              Y          2013              8           26  \n",
       "17295      Action              Y          2013             10           22  \n",
       "17313      Action              N          2013             11           18  \n",
       "17317    Fighting              N          2013             11           18  "
      ]
     },
     "execution_count": 48,
     "metadata": {},
     "output_type": "execute_result"
    }
   ],
   "source": [
    "# filter where the review is > 7 AND the console is Xbox one\n",
    "xbox_one_filter = (reviews['score'] > 7) & (reviews['platform'] == 'Xbox One')\n",
    "xfiltered_reviews = reviews[xbox_one_filter]\n",
    "xfiltered_reviews.head()"
   ]
  },
  {
   "cell_type": "code",
   "execution_count": 51,
   "metadata": {},
   "outputs": [
    {
     "data": {
      "text/html": [
       "<div>\n",
       "<style scoped>\n",
       "    .dataframe tbody tr th:only-of-type {\n",
       "        vertical-align: middle;\n",
       "    }\n",
       "\n",
       "    .dataframe tbody tr th {\n",
       "        vertical-align: top;\n",
       "    }\n",
       "\n",
       "    .dataframe thead th {\n",
       "        text-align: right;\n",
       "    }\n",
       "</style>\n",
       "<table border=\"1\" class=\"dataframe\">\n",
       "  <thead>\n",
       "    <tr style=\"text-align: right;\">\n",
       "      <th></th>\n",
       "      <th>game_id</th>\n",
       "      <th>score_phrase</th>\n",
       "      <th>title</th>\n",
       "      <th>platform</th>\n",
       "      <th>score</th>\n",
       "      <th>genre</th>\n",
       "      <th>editors_choice</th>\n",
       "      <th>release_year</th>\n",
       "      <th>release_month</th>\n",
       "      <th>release_day</th>\n",
       "    </tr>\n",
       "  </thead>\n",
       "  <tbody>\n",
       "    <tr>\n",
       "      <th>192</th>\n",
       "      <td>193</td>\n",
       "      <td>Amazing</td>\n",
       "      <td>Sound Shapes</td>\n",
       "      <td>PlayStation 4</td>\n",
       "      <td>9.0</td>\n",
       "      <td>Platformer</td>\n",
       "      <td>Y</td>\n",
       "      <td>2012</td>\n",
       "      <td>8</td>\n",
       "      <td>8</td>\n",
       "    </tr>\n",
       "    <tr>\n",
       "      <th>17049</th>\n",
       "      <td>17050</td>\n",
       "      <td>Amazing</td>\n",
       "      <td>Fez</td>\n",
       "      <td>PlayStation 4</td>\n",
       "      <td>9.5</td>\n",
       "      <td>Platformer</td>\n",
       "      <td>Y</td>\n",
       "      <td>2013</td>\n",
       "      <td>5</td>\n",
       "      <td>1</td>\n",
       "    </tr>\n",
       "    <tr>\n",
       "      <th>17123</th>\n",
       "      <td>17124</td>\n",
       "      <td>Amazing</td>\n",
       "      <td>Rogue Legacy</td>\n",
       "      <td>PlayStation 4</td>\n",
       "      <td>9.0</td>\n",
       "      <td>RPG</td>\n",
       "      <td>Y</td>\n",
       "      <td>2013</td>\n",
       "      <td>7</td>\n",
       "      <td>26</td>\n",
       "    </tr>\n",
       "    <tr>\n",
       "      <th>17140</th>\n",
       "      <td>17141</td>\n",
       "      <td>Amazing</td>\n",
       "      <td>Gone Home</td>\n",
       "      <td>PlayStation 4</td>\n",
       "      <td>9.5</td>\n",
       "      <td>Simulation</td>\n",
       "      <td>Y</td>\n",
       "      <td>2013</td>\n",
       "      <td>8</td>\n",
       "      <td>15</td>\n",
       "    </tr>\n",
       "    <tr>\n",
       "      <th>17160</th>\n",
       "      <td>17161</td>\n",
       "      <td>Amazing</td>\n",
       "      <td>The Swapper</td>\n",
       "      <td>PlayStation 4</td>\n",
       "      <td>9.3</td>\n",
       "      <td>Platformer</td>\n",
       "      <td>Y</td>\n",
       "      <td>2013</td>\n",
       "      <td>6</td>\n",
       "      <td>1</td>\n",
       "    </tr>\n",
       "  </tbody>\n",
       "</table>\n",
       "</div>"
      ],
      "text/plain": [
       "       game_id score_phrase         title       platform  score       genre  \\\n",
       "192        193      Amazing  Sound Shapes  PlayStation 4    9.0  Platformer   \n",
       "17049    17050      Amazing           Fez  PlayStation 4    9.5  Platformer   \n",
       "17123    17124      Amazing  Rogue Legacy  PlayStation 4    9.0         RPG   \n",
       "17140    17141      Amazing     Gone Home  PlayStation 4    9.5  Simulation   \n",
       "17160    17161      Amazing   The Swapper  PlayStation 4    9.3  Platformer   \n",
       "\n",
       "      editors_choice  release_year  release_month  release_day  \n",
       "192                Y          2012              8            8  \n",
       "17049              Y          2013              5            1  \n",
       "17123              Y          2013              7           26  \n",
       "17140              Y          2013              8           15  \n",
       "17160              Y          2013              6            1  "
      ]
     },
     "execution_count": 51,
     "metadata": {},
     "output_type": "execute_result"
    }
   ],
   "source": [
    "# filter > 7 AND PS4\n",
    "ps4_filter = (reviews['score'] > 7) & (reviews['platform'] == 'PlayStation 4')\n",
    "psfiltered_reviews = reviews[ps4_filter]\n",
    "psfiltered_reviews.head()"
   ]
  },
  {
   "cell_type": "markdown",
   "metadata": {},
   "source": [
    "### === Plotting with matplotlib ==="
   ]
  },
  {
   "cell_type": "code",
   "execution_count": 53,
   "metadata": {},
   "outputs": [
    {
     "data": {
      "image/png": "[encoded data removed]",
      "text/plain": [
       "<Figure size 640x480 with 1 Axes>"
      ]
     },
     "metadata": {},
     "output_type": "display_data"
    }
   ],
   "source": [
    "# Basic chart with all scores\n",
    "reviews['score'].plot(kind = 'hist'); # If you don't add the semi colon you get wierd text"
   ]
  },
  {
   "cell_type": "code",
   "execution_count": 54,
   "metadata": {},
   "outputs": [
    {
     "data": {
      "image/png": "[encoded data removed]",
      "text/plain": [
       "<Figure size 640x480 with 1 Axes>"
      ]
     },
     "metadata": {},
     "output_type": "display_data"
    }
   ],
   "source": [
    "# All scores > 7\n",
    "filtered_reviews['score'].plot(kind = 'hist');"
   ]
  },
  {
   "cell_type": "code",
   "execution_count": 56,
   "metadata": {},
   "outputs": [
    {
     "data": {
      "image/png": "[encoded data removed]",
      "text/plain": [
       "<Figure size 640x480 with 1 Axes>"
      ]
     },
     "metadata": {},
     "output_type": "display_data"
    }
   ],
   "source": [
    "# not chart type selected, defaults to line\n",
    "filtered_reviews['score'].plot();"
   ]
  },
  {
   "cell_type": "code",
   "execution_count": null,
   "metadata": {},
   "outputs": [],
   "source": []
  }
 ],
 "metadata": {
  "kernelspec": {
   "display_name": "Python 3.9.13 ('base')",
   "language": "python",
   "name": "python3"
  },
  "language_info": {
   "codemirror_mode": {
    "name": "ipython",
    "version": 3
   },
   "file_extension": ".py",
   "mimetype": "text/x-python",
   "name": "python",
   "nbconvert_exporter": "python",
   "pygments_lexer": "ipython3",
   "version": "3.9.13"
  },
  "orig_nbformat": 4,
  "vscode": {
   "interpreter": {
    "hash": "4797254cd27251f85634e24d7c40b7dc427ef9d24a73e94fa89a31d9bc655861"
   }
  }
 },
 "nbformat": 4,
 "nbformat_minor": 2
}
