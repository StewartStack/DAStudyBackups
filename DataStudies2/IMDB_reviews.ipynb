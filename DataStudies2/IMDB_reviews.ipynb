{
 "cells": [
  {
   "cell_type": "code",
   "execution_count": null,
   "metadata": {},
   "outputs": [],
   "source": [
    "# StewartStack\n",
    "# IMDB DA Excercise\n",
    "# 11/04/2023"
   ]
  },
  {
   "attachments": {},
   "cell_type": "markdown",
   "metadata": {},
   "source": [
    "### Q1. Import pandas, matplotlib & seaborn. Set the maximum columns to 'None'. Load the dataset giving it the name 'imdb'. Display the first 5 rows of the dataset."
   ]
  },
  {
   "cell_type": "code",
   "execution_count": null,
   "metadata": {},
   "outputs": [],
   "source": []
  },
  {
   "attachments": {},
   "cell_type": "markdown",
   "metadata": {},
   "source": [
    "### Q2. Run shape, info & describe. Round the describe function to 2 decimal places."
   ]
  },
  {
   "cell_type": "code",
   "execution_count": null,
   "metadata": {},
   "outputs": [],
   "source": []
  },
  {
   "cell_type": "code",
   "execution_count": null,
   "metadata": {},
   "outputs": [],
   "source": []
  },
  {
   "cell_type": "code",
   "execution_count": null,
   "metadata": {},
   "outputs": [],
   "source": []
  },
  {
   "attachments": {},
   "cell_type": "markdown",
   "metadata": {},
   "source": [
    "### Q3. NEW - isnull().sum()\n",
    "### Look at the output from info(). You can see that there are 2 columns with missing values (Revenue(Millions) & Metascore). You are going to use both these columns in your analysis. You need to keep the columns but get rid of the rows with missing or inaccurate values. The first step is to find out how many missing values there are. The code for this is shown in the line below. Try it.\n",
    "### imdb.isnull.sum()"
   ]
  },
  {
   "cell_type": "code",
   "execution_count": null,
   "metadata": {},
   "outputs": [],
   "source": []
  },
  {
   "attachments": {},
   "cell_type": "markdown",
   "metadata": {},
   "source": [
    "### Q4. NEW - dropna()\n",
    "### The code to drop rows with missing values is shown below. Run this code & then run isnull().sum() again to check this has worked.\n",
    "### imdb=imdb.dropna()"
   ]
  },
  {
   "cell_type": "code",
   "execution_count": null,
   "metadata": {},
   "outputs": [],
   "source": []
  },
  {
   "attachments": {},
   "cell_type": "markdown",
   "metadata": {},
   "source": [
    "### Q5. Run shape again & note the difference."
   ]
  },
  {
   "cell_type": "code",
   "execution_count": null,
   "metadata": {},
   "outputs": [],
   "source": []
  },
  {
   "attachments": {},
   "cell_type": "markdown",
   "metadata": {},
   "source": [
    "### Q6. Drop the Description column as it is not necessary. Display the names of the columns to check that this has worked."
   ]
  },
  {
   "cell_type": "code",
   "execution_count": null,
   "metadata": {},
   "outputs": [],
   "source": []
  },
  {
   "attachments": {},
   "cell_type": "markdown",
   "metadata": {},
   "source": [
    "### Q7. Change the names of the columns 'Runtime (Minutes)' & 'Revenue (Millions)'. The spaces and brackets should be removed & an underscore used between the words. Display the names of the columns to check that this has worked."
   ]
  },
  {
   "cell_type": "code",
   "execution_count": null,
   "metadata": {},
   "outputs": [],
   "source": []
  },
  {
   "attachments": {},
   "cell_type": "markdown",
   "metadata": {},
   "source": [
    "### Q8. Run a simple histogram using Revenue_Millions to visualise the distribution of Revenue across the dataset."
   ]
  },
  {
   "cell_type": "code",
   "execution_count": null,
   "metadata": {},
   "outputs": [],
   "source": []
  },
  {
   "attachments": {},
   "cell_type": "markdown",
   "metadata": {},
   "source": [
    "### Q9. NEW - nlargest()\n",
    "### Sometimes it can be useful to focus on a smaller sample of the dataset. In this case you are going to use the top 50 grossing (Revenue_Millions) films. The code is shown below. Try it.\n",
    "### imdb_top50=imdb.nlargest(50,'Revenue_Millions')\n",
    "### imdb_top50"
   ]
  },
  {
   "cell_type": "code",
   "execution_count": null,
   "metadata": {},
   "outputs": [],
   "source": []
  },
  {
   "attachments": {},
   "cell_type": "markdown",
   "metadata": {},
   "source": [
    "### Q10. Find the maximum for Revenue_Millions"
   ]
  },
  {
   "cell_type": "code",
   "execution_count": null,
   "metadata": {},
   "outputs": [],
   "source": []
  },
  {
   "attachments": {},
   "cell_type": "markdown",
   "metadata": {},
   "source": [
    "### Q11. Display the record where the Revenue_Millions is equal to the max. Use loc."
   ]
  },
  {
   "cell_type": "code",
   "execution_count": null,
   "metadata": {},
   "outputs": [],
   "source": []
  },
  {
   "attachments": {},
   "cell_type": "markdown",
   "metadata": {},
   "source": [
    "### Q12. Find the mean for Revenue_Millions"
   ]
  },
  {
   "cell_type": "code",
   "execution_count": null,
   "metadata": {},
   "outputs": [],
   "source": []
  },
  {
   "attachments": {},
   "cell_type": "markdown",
   "metadata": {},
   "source": [
    "### Q13. You have established that the max is over 900 million and the mean is around 85 for Revenue_Millions. You now need to filter the data more so that you are restricting the data to only those records where the Revenue_Millions is greater than 400 million. Assign this to a variable called 'high_earn'"
   ]
  },
  {
   "cell_type": "code",
   "execution_count": null,
   "metadata": {},
   "outputs": [],
   "source": []
  },
  {
   "attachments": {},
   "cell_type": "markdown",
   "metadata": {},
   "source": [
    "### Q14. You are now going to look at the ratings for the high earning films. Find the max & the mean."
   ]
  },
  {
   "cell_type": "code",
   "execution_count": null,
   "metadata": {},
   "outputs": [],
   "source": []
  },
  {
   "cell_type": "code",
   "execution_count": null,
   "metadata": {},
   "outputs": [],
   "source": []
  },
  {
   "attachments": {},
   "cell_type": "markdown",
   "metadata": {},
   "source": [
    "### Q15. You have established the max & the mean. You now need to filter the high earning films so that you only include films where the rating is greater than 7. You should also sort the values by Revenue_Millions showing the highest number at the top of the output."
   ]
  },
  {
   "cell_type": "code",
   "execution_count": null,
   "metadata": {},
   "outputs": [],
   "source": []
  },
  {
   "attachments": {},
   "cell_type": "markdown",
   "metadata": {},
   "source": [
    "### FOR INFO\n",
    "Here is the code for a bar chart to visualise some of your findings. You will be doing a lesson on visualisation."
   ]
  },
  {
   "cell_type": "code",
   "execution_count": null,
   "metadata": {},
   "outputs": [],
   "source": [
    "fig, ax1 = plt.subplots(figsize=(30, 10))\n",
    "plt.xticks(rotation=90)\n",
    "sns.barplot(x = 'Title', y = high_rating_earn['Revenue_Millions'], hue = 'Rating', data = high_rating_earn,ci=None,dodge=False);  \n"
   ]
  }
 ],
 "metadata": {
  "kernelspec": {
   "display_name": "Python 3.9.13 ('base')",
   "language": "python",
   "name": "python3"
  },
  "language_info": {
   "codemirror_mode": {
    "name": "ipython",
    "version": 3
   },
   "file_extension": ".py",
   "mimetype": "text/x-python",
   "name": "python",
   "nbconvert_exporter": "python",
   "pygments_lexer": "ipython3",
   "version": "3.9.13"
  },
  "orig_nbformat": 4,
  "vscode": {
   "interpreter": {
    "hash": "4797254cd27251f85634e24d7c40b7dc427ef9d24a73e94fa89a31d9bc655861"
   }
  }
 },
 "nbformat": 4,
 "nbformat_minor": 2
}
